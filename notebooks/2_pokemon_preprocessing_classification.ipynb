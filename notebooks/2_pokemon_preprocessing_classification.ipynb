{
 "cells": [
  {
   "cell_type": "code",
   "execution_count": 122,
   "id": "editorial-interest",
   "metadata": {},
   "outputs": [],
   "source": [
    "import pandas as pd\n",
    "import numpy as np"
   ]
  },
  {
   "cell_type": "markdown",
   "id": "public-terrace",
   "metadata": {},
   "source": [
    "# Загрузка и подготовка данных"
   ]
  },
  {
   "cell_type": "code",
   "execution_count": 123,
   "id": "classified-orientation",
   "metadata": {},
   "outputs": [],
   "source": [
    "#импортируем подготовленный датасет\n",
    "pokemon_df = pd.read_csv('../data/pokemon_preprocessed.csv')"
   ]
  },
  {
   "cell_type": "code",
   "execution_count": 124,
   "id": "outstanding-transsexual",
   "metadata": {},
   "outputs": [
    {
     "data": {
      "text/html": [
       "<div>\n",
       "<style scoped>\n",
       "    .dataframe tbody tr th:only-of-type {\n",
       "        vertical-align: middle;\n",
       "    }\n",
       "\n",
       "    .dataframe tbody tr th {\n",
       "        vertical-align: top;\n",
       "    }\n",
       "\n",
       "    .dataframe thead th {\n",
       "        text-align: right;\n",
       "    }\n",
       "</style>\n",
       "<table border=\"1\" class=\"dataframe\">\n",
       "  <thead>\n",
       "    <tr style=\"text-align: right;\">\n",
       "      <th></th>\n",
       "      <th>Total</th>\n",
       "      <th>HP</th>\n",
       "      <th>Attack</th>\n",
       "      <th>Defense</th>\n",
       "      <th>Sp. Atk</th>\n",
       "      <th>Sp. Def</th>\n",
       "      <th>Speed</th>\n",
       "      <th>Generation</th>\n",
       "      <th>Legendary</th>\n",
       "      <th>Bug</th>\n",
       "      <th>...</th>\n",
       "      <th>Ghost</th>\n",
       "      <th>Grass</th>\n",
       "      <th>Ground</th>\n",
       "      <th>Ice</th>\n",
       "      <th>Normal</th>\n",
       "      <th>Poison</th>\n",
       "      <th>Psychic</th>\n",
       "      <th>Rock</th>\n",
       "      <th>Steel</th>\n",
       "      <th>Water</th>\n",
       "    </tr>\n",
       "  </thead>\n",
       "  <tbody>\n",
       "    <tr>\n",
       "      <th>0</th>\n",
       "      <td>318</td>\n",
       "      <td>45</td>\n",
       "      <td>49</td>\n",
       "      <td>49</td>\n",
       "      <td>65</td>\n",
       "      <td>65</td>\n",
       "      <td>45</td>\n",
       "      <td>1</td>\n",
       "      <td>0</td>\n",
       "      <td>0</td>\n",
       "      <td>...</td>\n",
       "      <td>0</td>\n",
       "      <td>1</td>\n",
       "      <td>0</td>\n",
       "      <td>0</td>\n",
       "      <td>0</td>\n",
       "      <td>1</td>\n",
       "      <td>0</td>\n",
       "      <td>0</td>\n",
       "      <td>0</td>\n",
       "      <td>0</td>\n",
       "    </tr>\n",
       "    <tr>\n",
       "      <th>1</th>\n",
       "      <td>405</td>\n",
       "      <td>60</td>\n",
       "      <td>62</td>\n",
       "      <td>63</td>\n",
       "      <td>80</td>\n",
       "      <td>80</td>\n",
       "      <td>60</td>\n",
       "      <td>1</td>\n",
       "      <td>0</td>\n",
       "      <td>0</td>\n",
       "      <td>...</td>\n",
       "      <td>0</td>\n",
       "      <td>1</td>\n",
       "      <td>0</td>\n",
       "      <td>0</td>\n",
       "      <td>0</td>\n",
       "      <td>1</td>\n",
       "      <td>0</td>\n",
       "      <td>0</td>\n",
       "      <td>0</td>\n",
       "      <td>0</td>\n",
       "    </tr>\n",
       "    <tr>\n",
       "      <th>2</th>\n",
       "      <td>525</td>\n",
       "      <td>80</td>\n",
       "      <td>82</td>\n",
       "      <td>83</td>\n",
       "      <td>100</td>\n",
       "      <td>100</td>\n",
       "      <td>80</td>\n",
       "      <td>1</td>\n",
       "      <td>0</td>\n",
       "      <td>0</td>\n",
       "      <td>...</td>\n",
       "      <td>0</td>\n",
       "      <td>1</td>\n",
       "      <td>0</td>\n",
       "      <td>0</td>\n",
       "      <td>0</td>\n",
       "      <td>1</td>\n",
       "      <td>0</td>\n",
       "      <td>0</td>\n",
       "      <td>0</td>\n",
       "      <td>0</td>\n",
       "    </tr>\n",
       "    <tr>\n",
       "      <th>3</th>\n",
       "      <td>625</td>\n",
       "      <td>80</td>\n",
       "      <td>100</td>\n",
       "      <td>123</td>\n",
       "      <td>122</td>\n",
       "      <td>120</td>\n",
       "      <td>80</td>\n",
       "      <td>1</td>\n",
       "      <td>0</td>\n",
       "      <td>0</td>\n",
       "      <td>...</td>\n",
       "      <td>0</td>\n",
       "      <td>1</td>\n",
       "      <td>0</td>\n",
       "      <td>0</td>\n",
       "      <td>0</td>\n",
       "      <td>1</td>\n",
       "      <td>0</td>\n",
       "      <td>0</td>\n",
       "      <td>0</td>\n",
       "      <td>0</td>\n",
       "    </tr>\n",
       "    <tr>\n",
       "      <th>4</th>\n",
       "      <td>309</td>\n",
       "      <td>39</td>\n",
       "      <td>52</td>\n",
       "      <td>43</td>\n",
       "      <td>60</td>\n",
       "      <td>50</td>\n",
       "      <td>65</td>\n",
       "      <td>1</td>\n",
       "      <td>0</td>\n",
       "      <td>0</td>\n",
       "      <td>...</td>\n",
       "      <td>0</td>\n",
       "      <td>0</td>\n",
       "      <td>0</td>\n",
       "      <td>0</td>\n",
       "      <td>0</td>\n",
       "      <td>0</td>\n",
       "      <td>0</td>\n",
       "      <td>0</td>\n",
       "      <td>0</td>\n",
       "      <td>0</td>\n",
       "    </tr>\n",
       "  </tbody>\n",
       "</table>\n",
       "<p>5 rows × 27 columns</p>\n",
       "</div>"
      ],
      "text/plain": [
       "   Total  HP  Attack  Defense  Sp. Atk  Sp. Def  Speed  Generation  Legendary  \\\n",
       "0    318  45      49       49       65       65     45           1          0   \n",
       "1    405  60      62       63       80       80     60           1          0   \n",
       "2    525  80      82       83      100      100     80           1          0   \n",
       "3    625  80     100      123      122      120     80           1          0   \n",
       "4    309  39      52       43       60       50     65           1          0   \n",
       "\n",
       "   Bug  ...  Ghost  Grass  Ground  Ice  Normal  Poison  Psychic  Rock  Steel  \\\n",
       "0    0  ...      0      1       0    0       0       1        0     0      0   \n",
       "1    0  ...      0      1       0    0       0       1        0     0      0   \n",
       "2    0  ...      0      1       0    0       0       1        0     0      0   \n",
       "3    0  ...      0      1       0    0       0       1        0     0      0   \n",
       "4    0  ...      0      0       0    0       0       0        0     0      0   \n",
       "\n",
       "   Water  \n",
       "0      0  \n",
       "1      0  \n",
       "2      0  \n",
       "3      0  \n",
       "4      0  \n",
       "\n",
       "[5 rows x 27 columns]"
      ]
     },
     "execution_count": 124,
     "metadata": {},
     "output_type": "execute_result"
    }
   ],
   "source": [
    "#убеждаемся, что загрузка прошла успешно\n",
    "pokemon_df.head()"
   ]
  },
  {
   "cell_type": "code",
   "execution_count": 125,
   "id": "psychological-student",
   "metadata": {},
   "outputs": [],
   "source": [
    "#нормируем вещественные признаки\n",
    "from sklearn.preprocessing import StandardScaler\n",
    "\n",
    "scaler = StandardScaler()\n",
    "scaler.fit(pokemon_df.iloc[:,0:7])\n",
    "scaled_df = pd.DataFrame(np.array(scaler.transform(pokemon_df.iloc[:,0:7])), columns = [\"Total\",\"HP\",\"Attack\",\"Defense\",\"Sp_Atk\",\"Sp_Def\",\"Speed\"], index = pokemon_df.index)"
   ]
  },
  {
   "cell_type": "code",
   "execution_count": 126,
   "id": "foster-glucose",
   "metadata": {},
   "outputs": [
    {
     "data": {
      "text/html": [
       "<div>\n",
       "<style scoped>\n",
       "    .dataframe tbody tr th:only-of-type {\n",
       "        vertical-align: middle;\n",
       "    }\n",
       "\n",
       "    .dataframe tbody tr th {\n",
       "        vertical-align: top;\n",
       "    }\n",
       "\n",
       "    .dataframe thead th {\n",
       "        text-align: right;\n",
       "    }\n",
       "</style>\n",
       "<table border=\"1\" class=\"dataframe\">\n",
       "  <thead>\n",
       "    <tr style=\"text-align: right;\">\n",
       "      <th></th>\n",
       "      <th>Total</th>\n",
       "      <th>HP</th>\n",
       "      <th>Attack</th>\n",
       "      <th>Defense</th>\n",
       "      <th>Sp_Atk</th>\n",
       "      <th>Sp_Def</th>\n",
       "      <th>Speed</th>\n",
       "      <th>Generation</th>\n",
       "      <th>Legendary</th>\n",
       "      <th>Bug</th>\n",
       "      <th>...</th>\n",
       "      <th>Ghost</th>\n",
       "      <th>Grass</th>\n",
       "      <th>Ground</th>\n",
       "      <th>Ice</th>\n",
       "      <th>Normal</th>\n",
       "      <th>Poison</th>\n",
       "      <th>Psychic</th>\n",
       "      <th>Rock</th>\n",
       "      <th>Steel</th>\n",
       "      <th>Water</th>\n",
       "    </tr>\n",
       "  </thead>\n",
       "  <tbody>\n",
       "    <tr>\n",
       "      <th>0</th>\n",
       "      <td>-0.976765</td>\n",
       "      <td>-0.950626</td>\n",
       "      <td>-0.924906</td>\n",
       "      <td>-0.797154</td>\n",
       "      <td>-0.239130</td>\n",
       "      <td>-0.248189</td>\n",
       "      <td>-0.801503</td>\n",
       "      <td>1</td>\n",
       "      <td>0</td>\n",
       "      <td>0</td>\n",
       "      <td>...</td>\n",
       "      <td>0</td>\n",
       "      <td>1</td>\n",
       "      <td>0</td>\n",
       "      <td>0</td>\n",
       "      <td>0</td>\n",
       "      <td>1</td>\n",
       "      <td>0</td>\n",
       "      <td>0</td>\n",
       "      <td>0</td>\n",
       "      <td>0</td>\n",
       "    </tr>\n",
       "    <tr>\n",
       "      <th>1</th>\n",
       "      <td>-0.251088</td>\n",
       "      <td>-0.362822</td>\n",
       "      <td>-0.524130</td>\n",
       "      <td>-0.347917</td>\n",
       "      <td>0.219560</td>\n",
       "      <td>0.291156</td>\n",
       "      <td>-0.285015</td>\n",
       "      <td>1</td>\n",
       "      <td>0</td>\n",
       "      <td>0</td>\n",
       "      <td>...</td>\n",
       "      <td>0</td>\n",
       "      <td>1</td>\n",
       "      <td>0</td>\n",
       "      <td>0</td>\n",
       "      <td>0</td>\n",
       "      <td>1</td>\n",
       "      <td>0</td>\n",
       "      <td>0</td>\n",
       "      <td>0</td>\n",
       "      <td>0</td>\n",
       "    </tr>\n",
       "    <tr>\n",
       "      <th>2</th>\n",
       "      <td>0.749845</td>\n",
       "      <td>0.420917</td>\n",
       "      <td>0.092448</td>\n",
       "      <td>0.293849</td>\n",
       "      <td>0.831146</td>\n",
       "      <td>1.010283</td>\n",
       "      <td>0.403635</td>\n",
       "      <td>1</td>\n",
       "      <td>0</td>\n",
       "      <td>0</td>\n",
       "      <td>...</td>\n",
       "      <td>0</td>\n",
       "      <td>1</td>\n",
       "      <td>0</td>\n",
       "      <td>0</td>\n",
       "      <td>0</td>\n",
       "      <td>1</td>\n",
       "      <td>0</td>\n",
       "      <td>0</td>\n",
       "      <td>0</td>\n",
       "      <td>0</td>\n",
       "    </tr>\n",
       "    <tr>\n",
       "      <th>3</th>\n",
       "      <td>1.583957</td>\n",
       "      <td>0.420917</td>\n",
       "      <td>0.647369</td>\n",
       "      <td>1.577381</td>\n",
       "      <td>1.503891</td>\n",
       "      <td>1.729409</td>\n",
       "      <td>0.403635</td>\n",
       "      <td>1</td>\n",
       "      <td>0</td>\n",
       "      <td>0</td>\n",
       "      <td>...</td>\n",
       "      <td>0</td>\n",
       "      <td>1</td>\n",
       "      <td>0</td>\n",
       "      <td>0</td>\n",
       "      <td>0</td>\n",
       "      <td>1</td>\n",
       "      <td>0</td>\n",
       "      <td>0</td>\n",
       "      <td>0</td>\n",
       "      <td>0</td>\n",
       "    </tr>\n",
       "    <tr>\n",
       "      <th>4</th>\n",
       "      <td>-1.051836</td>\n",
       "      <td>-1.185748</td>\n",
       "      <td>-0.832419</td>\n",
       "      <td>-0.989683</td>\n",
       "      <td>-0.392027</td>\n",
       "      <td>-0.787533</td>\n",
       "      <td>-0.112853</td>\n",
       "      <td>1</td>\n",
       "      <td>0</td>\n",
       "      <td>0</td>\n",
       "      <td>...</td>\n",
       "      <td>0</td>\n",
       "      <td>0</td>\n",
       "      <td>0</td>\n",
       "      <td>0</td>\n",
       "      <td>0</td>\n",
       "      <td>0</td>\n",
       "      <td>0</td>\n",
       "      <td>0</td>\n",
       "      <td>0</td>\n",
       "      <td>0</td>\n",
       "    </tr>\n",
       "    <tr>\n",
       "      <th>...</th>\n",
       "      <td>...</td>\n",
       "      <td>...</td>\n",
       "      <td>...</td>\n",
       "      <td>...</td>\n",
       "      <td>...</td>\n",
       "      <td>...</td>\n",
       "      <td>...</td>\n",
       "      <td>...</td>\n",
       "      <td>...</td>\n",
       "      <td>...</td>\n",
       "      <td>...</td>\n",
       "      <td>...</td>\n",
       "      <td>...</td>\n",
       "      <td>...</td>\n",
       "      <td>...</td>\n",
       "      <td>...</td>\n",
       "      <td>...</td>\n",
       "      <td>...</td>\n",
       "      <td>...</td>\n",
       "      <td>...</td>\n",
       "      <td>...</td>\n",
       "    </tr>\n",
       "    <tr>\n",
       "      <th>795</th>\n",
       "      <td>1.375429</td>\n",
       "      <td>-0.754692</td>\n",
       "      <td>0.647369</td>\n",
       "      <td>2.443765</td>\n",
       "      <td>0.831146</td>\n",
       "      <td>2.808099</td>\n",
       "      <td>-0.629341</td>\n",
       "      <td>6</td>\n",
       "      <td>1</td>\n",
       "      <td>0</td>\n",
       "      <td>...</td>\n",
       "      <td>0</td>\n",
       "      <td>0</td>\n",
       "      <td>0</td>\n",
       "      <td>0</td>\n",
       "      <td>0</td>\n",
       "      <td>0</td>\n",
       "      <td>0</td>\n",
       "      <td>1</td>\n",
       "      <td>0</td>\n",
       "      <td>0</td>\n",
       "    </tr>\n",
       "    <tr>\n",
       "      <th>796</th>\n",
       "      <td>2.209541</td>\n",
       "      <td>-0.754692</td>\n",
       "      <td>2.497104</td>\n",
       "      <td>1.160233</td>\n",
       "      <td>2.665905</td>\n",
       "      <td>1.369846</td>\n",
       "      <td>1.436611</td>\n",
       "      <td>6</td>\n",
       "      <td>1</td>\n",
       "      <td>0</td>\n",
       "      <td>...</td>\n",
       "      <td>0</td>\n",
       "      <td>0</td>\n",
       "      <td>0</td>\n",
       "      <td>0</td>\n",
       "      <td>0</td>\n",
       "      <td>0</td>\n",
       "      <td>0</td>\n",
       "      <td>1</td>\n",
       "      <td>0</td>\n",
       "      <td>0</td>\n",
       "    </tr>\n",
       "    <tr>\n",
       "      <th>797</th>\n",
       "      <td>1.375429</td>\n",
       "      <td>0.420917</td>\n",
       "      <td>0.955658</td>\n",
       "      <td>-0.444182</td>\n",
       "      <td>2.360112</td>\n",
       "      <td>2.088973</td>\n",
       "      <td>0.059310</td>\n",
       "      <td>6</td>\n",
       "      <td>1</td>\n",
       "      <td>0</td>\n",
       "      <td>...</td>\n",
       "      <td>1</td>\n",
       "      <td>0</td>\n",
       "      <td>0</td>\n",
       "      <td>0</td>\n",
       "      <td>0</td>\n",
       "      <td>0</td>\n",
       "      <td>1</td>\n",
       "      <td>0</td>\n",
       "      <td>0</td>\n",
       "      <td>0</td>\n",
       "    </tr>\n",
       "    <tr>\n",
       "      <th>798</th>\n",
       "      <td>2.042718</td>\n",
       "      <td>0.420917</td>\n",
       "      <td>2.497104</td>\n",
       "      <td>-0.444182</td>\n",
       "      <td>2.971699</td>\n",
       "      <td>2.088973</td>\n",
       "      <td>0.403635</td>\n",
       "      <td>6</td>\n",
       "      <td>1</td>\n",
       "      <td>0</td>\n",
       "      <td>...</td>\n",
       "      <td>0</td>\n",
       "      <td>0</td>\n",
       "      <td>0</td>\n",
       "      <td>0</td>\n",
       "      <td>0</td>\n",
       "      <td>0</td>\n",
       "      <td>1</td>\n",
       "      <td>0</td>\n",
       "      <td>0</td>\n",
       "      <td>0</td>\n",
       "    </tr>\n",
       "    <tr>\n",
       "      <th>799</th>\n",
       "      <td>1.375429</td>\n",
       "      <td>0.420917</td>\n",
       "      <td>0.955658</td>\n",
       "      <td>1.481116</td>\n",
       "      <td>1.748526</td>\n",
       "      <td>0.650720</td>\n",
       "      <td>0.059310</td>\n",
       "      <td>6</td>\n",
       "      <td>1</td>\n",
       "      <td>0</td>\n",
       "      <td>...</td>\n",
       "      <td>0</td>\n",
       "      <td>0</td>\n",
       "      <td>0</td>\n",
       "      <td>0</td>\n",
       "      <td>0</td>\n",
       "      <td>0</td>\n",
       "      <td>0</td>\n",
       "      <td>0</td>\n",
       "      <td>0</td>\n",
       "      <td>1</td>\n",
       "    </tr>\n",
       "  </tbody>\n",
       "</table>\n",
       "<p>800 rows × 27 columns</p>\n",
       "</div>"
      ],
      "text/plain": [
       "        Total        HP    Attack   Defense    Sp_Atk    Sp_Def     Speed  \\\n",
       "0   -0.976765 -0.950626 -0.924906 -0.797154 -0.239130 -0.248189 -0.801503   \n",
       "1   -0.251088 -0.362822 -0.524130 -0.347917  0.219560  0.291156 -0.285015   \n",
       "2    0.749845  0.420917  0.092448  0.293849  0.831146  1.010283  0.403635   \n",
       "3    1.583957  0.420917  0.647369  1.577381  1.503891  1.729409  0.403635   \n",
       "4   -1.051836 -1.185748 -0.832419 -0.989683 -0.392027 -0.787533 -0.112853   \n",
       "..        ...       ...       ...       ...       ...       ...       ...   \n",
       "795  1.375429 -0.754692  0.647369  2.443765  0.831146  2.808099 -0.629341   \n",
       "796  2.209541 -0.754692  2.497104  1.160233  2.665905  1.369846  1.436611   \n",
       "797  1.375429  0.420917  0.955658 -0.444182  2.360112  2.088973  0.059310   \n",
       "798  2.042718  0.420917  2.497104 -0.444182  2.971699  2.088973  0.403635   \n",
       "799  1.375429  0.420917  0.955658  1.481116  1.748526  0.650720  0.059310   \n",
       "\n",
       "     Generation  Legendary  Bug  ...  Ghost  Grass  Ground  Ice  Normal  \\\n",
       "0             1          0    0  ...      0      1       0    0       0   \n",
       "1             1          0    0  ...      0      1       0    0       0   \n",
       "2             1          0    0  ...      0      1       0    0       0   \n",
       "3             1          0    0  ...      0      1       0    0       0   \n",
       "4             1          0    0  ...      0      0       0    0       0   \n",
       "..          ...        ...  ...  ...    ...    ...     ...  ...     ...   \n",
       "795           6          1    0  ...      0      0       0    0       0   \n",
       "796           6          1    0  ...      0      0       0    0       0   \n",
       "797           6          1    0  ...      1      0       0    0       0   \n",
       "798           6          1    0  ...      0      0       0    0       0   \n",
       "799           6          1    0  ...      0      0       0    0       0   \n",
       "\n",
       "     Poison  Psychic  Rock  Steel  Water  \n",
       "0         1        0     0      0      0  \n",
       "1         1        0     0      0      0  \n",
       "2         1        0     0      0      0  \n",
       "3         1        0     0      0      0  \n",
       "4         0        0     0      0      0  \n",
       "..      ...      ...   ...    ...    ...  \n",
       "795       0        0     1      0      0  \n",
       "796       0        0     1      0      0  \n",
       "797       0        1     0      0      0  \n",
       "798       0        1     0      0      0  \n",
       "799       0        0     0      0      1  \n",
       "\n",
       "[800 rows x 27 columns]"
      ]
     },
     "execution_count": 126,
     "metadata": {},
     "output_type": "execute_result"
    }
   ],
   "source": [
    "pokemon_df = pd.concat([scaled_df, pokemon_df.iloc[:,7:]], axis = \"columns\")\n",
    "pokemon_df"
   ]
  },
  {
   "cell_type": "code",
   "execution_count": 127,
   "id": "radio-prairie",
   "metadata": {},
   "outputs": [],
   "source": [
    "#создадим датафреймы X и y\n",
    "y = pokemon_df.Legendary\n",
    "pokemon_df = pokemon_df.drop(['Legendary'], axis=1)\n",
    "X = pokemon_df"
   ]
  },
  {
   "cell_type": "code",
   "execution_count": 128,
   "id": "bottom-jurisdiction",
   "metadata": {},
   "outputs": [],
   "source": [
    "from sklearn.model_selection import train_test_split\n",
    "#разбиваем всю выборку на обучающую и тестовую\n",
    "X_train, X_test, y_train, y_test = train_test_split(X, y, test_size=0.20, random_state = 2)"
   ]
  },
  {
   "cell_type": "markdown",
   "id": "surprising-malaysia",
   "metadata": {},
   "source": [
    "# Метод k-ближайших соседей (K-Nearest Neighbors)"
   ]
  },
  {
   "cell_type": "code",
   "execution_count": 129,
   "id": "monthly-avatar",
   "metadata": {},
   "outputs": [
    {
     "data": {
      "text/plain": [
       "KNeighborsClassifier()"
      ]
     },
     "execution_count": 129,
     "metadata": {},
     "output_type": "execute_result"
    }
   ],
   "source": [
    "from sklearn.neighbors import KNeighborsClassifier\n",
    "\n",
    "clf = KNeighborsClassifier(n_neighbors=5) # создаем классификатор\n",
    "clf.fit(X_train, y_train) # обучаем классификатор"
   ]
  },
  {
   "cell_type": "code",
   "execution_count": null,
   "id": "communist-timing",
   "metadata": {},
   "outputs": [],
   "source": [
    "from sklearn.metrics import classification_report, confusion_matrix\n",
    "\n",
    "y_pred = clf.predict(X_test) # предсказываем ответы с помощью классификатора\n",
    "print(confusion_matrix(y_test, y_pred)) \n",
    "print(classification_report(y_test, y_pred))"
   ]
  },
  {
   "cell_type": "markdown",
   "id": "coordinate-entity",
   "metadata": {},
   "source": [
    "Последующие классификаторы создаются, обучаются и предсказывают ответ аналогично данному."
   ]
  },
  {
   "cell_type": "markdown",
   "id": "naval-airline",
   "metadata": {},
   "source": [
    "# Классификатор дерева решений (Decision Tree Classifier)"
   ]
  },
  {
   "cell_type": "code",
   "execution_count": 131,
   "id": "minus-coral",
   "metadata": {},
   "outputs": [],
   "source": [
    "from sklearn import tree\n",
    "\n",
    "clf = tree.DecisionTreeClassifier()\n",
    "clf = clf.fit(X_train, y_train)"
   ]
  },
  {
   "cell_type": "code",
   "execution_count": 132,
   "id": "optional-delight",
   "metadata": {},
   "outputs": [
    {
     "name": "stdout",
     "output_type": "stream",
     "text": [
      "[[144   5]\n",
      " [  0  11]]\n",
      "              precision    recall  f1-score   support\n",
      "\n",
      "           0       1.00      0.97      0.98       149\n",
      "           1       0.69      1.00      0.81        11\n",
      "\n",
      "    accuracy                           0.97       160\n",
      "   macro avg       0.84      0.98      0.90       160\n",
      "weighted avg       0.98      0.97      0.97       160\n",
      "\n"
     ]
    }
   ],
   "source": [
    "y_pred = clf.predict(X_test)\n",
    "print(confusion_matrix(y_test, y_pred))\n",
    "print(classification_report(y_test, y_pred))"
   ]
  },
  {
   "cell_type": "code",
   "execution_count": 133,
   "id": "dressed-pursuit",
   "metadata": {},
   "outputs": [],
   "source": [
    "#decision tree CART model\n",
    "\n",
    "clf = tree.DecisionTreeClassifier(criterion = \"gini\", random_state = 2)\n",
    "clf = clf.fit(X_train, y_train)"
   ]
  },
  {
   "cell_type": "code",
   "execution_count": 134,
   "id": "dying-feelings",
   "metadata": {},
   "outputs": [
    {
     "name": "stdout",
     "output_type": "stream",
     "text": [
      "[[144   5]\n",
      " [  0  11]]\n",
      "              precision    recall  f1-score   support\n",
      "\n",
      "           0       1.00      0.97      0.98       149\n",
      "           1       0.69      1.00      0.81        11\n",
      "\n",
      "    accuracy                           0.97       160\n",
      "   macro avg       0.84      0.98      0.90       160\n",
      "weighted avg       0.98      0.97      0.97       160\n",
      "\n"
     ]
    }
   ],
   "source": [
    "y_pred = clf.predict(X_test)\n",
    "print(confusion_matrix(y_test, y_pred))\n",
    "print(classification_report(y_test, y_pred))"
   ]
  },
  {
   "cell_type": "code",
   "execution_count": 135,
   "id": "wired-czech",
   "metadata": {},
   "outputs": [],
   "source": [
    "#decision tree C50 model\n",
    "\n",
    "clf = tree.DecisionTreeClassifier(criterion=\"entropy\", random_state = 2)\n",
    "clf = clf.fit(X_train, y_train)"
   ]
  },
  {
   "cell_type": "code",
   "execution_count": 136,
   "id": "jewish-spare",
   "metadata": {},
   "outputs": [
    {
     "name": "stdout",
     "output_type": "stream",
     "text": [
      "[[144   5]\n",
      " [  1  10]]\n",
      "              precision    recall  f1-score   support\n",
      "\n",
      "           0       0.99      0.97      0.98       149\n",
      "           1       0.67      0.91      0.77        11\n",
      "\n",
      "    accuracy                           0.96       160\n",
      "   macro avg       0.83      0.94      0.87       160\n",
      "weighted avg       0.97      0.96      0.97       160\n",
      "\n"
     ]
    }
   ],
   "source": [
    "y_pred = clf.predict(X_test)\n",
    "print(confusion_matrix(y_test, y_pred))\n",
    "print(classification_report(y_test, y_pred))"
   ]
  },
  {
   "cell_type": "markdown",
   "id": "recreational-state",
   "metadata": {},
   "source": [
    "# Наивный байесовский классификатор (Naive Bayes)"
   ]
  },
  {
   "cell_type": "code",
   "execution_count": 137,
   "id": "paperback-picnic",
   "metadata": {},
   "outputs": [
    {
     "data": {
      "text/plain": [
       "GaussianNB()"
      ]
     },
     "execution_count": 137,
     "metadata": {},
     "output_type": "execute_result"
    }
   ],
   "source": [
    "from sklearn.naive_bayes import GaussianNB\n",
    "from sklearn.naive_bayes import BernoulliNB\n",
    "\n",
    "clf = GaussianNB()\n",
    "clf.fit(X_train, y_train)"
   ]
  },
  {
   "cell_type": "code",
   "execution_count": 138,
   "id": "formal-matrix",
   "metadata": {},
   "outputs": [
    {
     "name": "stdout",
     "output_type": "stream",
     "text": [
      "[[82 67]\n",
      " [ 0 11]]\n",
      "              precision    recall  f1-score   support\n",
      "\n",
      "           0       1.00      0.55      0.71       149\n",
      "           1       0.14      1.00      0.25        11\n",
      "\n",
      "    accuracy                           0.58       160\n",
      "   macro avg       0.57      0.78      0.48       160\n",
      "weighted avg       0.94      0.58      0.68       160\n",
      "\n"
     ]
    }
   ],
   "source": [
    "y_pred = clf.predict(X_test)\n",
    "print(confusion_matrix(y_test, y_pred))\n",
    "print(classification_report(y_test, y_pred))"
   ]
  },
  {
   "cell_type": "code",
   "execution_count": 139,
   "id": "revolutionary-funds",
   "metadata": {},
   "outputs": [
    {
     "data": {
      "text/plain": [
       "BernoulliNB()"
      ]
     },
     "execution_count": 139,
     "metadata": {},
     "output_type": "execute_result"
    }
   ],
   "source": [
    "clf = BernoulliNB()\n",
    "clf.fit(X_train, y_train)"
   ]
  },
  {
   "cell_type": "code",
   "execution_count": 140,
   "id": "tested-departure",
   "metadata": {},
   "outputs": [
    {
     "name": "stdout",
     "output_type": "stream",
     "text": [
      "[[139  10]\n",
      " [  1  10]]\n",
      "              precision    recall  f1-score   support\n",
      "\n",
      "           0       0.99      0.93      0.96       149\n",
      "           1       0.50      0.91      0.65        11\n",
      "\n",
      "    accuracy                           0.93       160\n",
      "   macro avg       0.75      0.92      0.80       160\n",
      "weighted avg       0.96      0.93      0.94       160\n",
      "\n"
     ]
    }
   ],
   "source": [
    "y_pred = clf.predict(X_test)\n",
    "print(confusion_matrix(y_test, y_pred))\n",
    "print(classification_report(y_test, y_pred))"
   ]
  },
  {
   "cell_type": "markdown",
   "id": "mexican-geometry",
   "metadata": {},
   "source": [
    "# Метод опорных векторов (Support Vector Machines)"
   ]
  },
  {
   "cell_type": "code",
   "execution_count": 141,
   "id": "turned-immigration",
   "metadata": {},
   "outputs": [
    {
     "data": {
      "text/plain": [
       "SVC()"
      ]
     },
     "execution_count": 141,
     "metadata": {},
     "output_type": "execute_result"
    }
   ],
   "source": [
    "from sklearn import svm\n",
    "clf = svm.SVC()\n",
    "clf.fit(X_train, y_train)"
   ]
  },
  {
   "cell_type": "code",
   "execution_count": 142,
   "id": "elegant-slope",
   "metadata": {},
   "outputs": [
    {
     "name": "stdout",
     "output_type": "stream",
     "text": [
      "[[145   4]\n",
      " [  3   8]]\n",
      "              precision    recall  f1-score   support\n",
      "\n",
      "           0       0.98      0.97      0.98       149\n",
      "           1       0.67      0.73      0.70        11\n",
      "\n",
      "    accuracy                           0.96       160\n",
      "   macro avg       0.82      0.85      0.84       160\n",
      "weighted avg       0.96      0.96      0.96       160\n",
      "\n"
     ]
    }
   ],
   "source": [
    "y_pred = clf.predict(X_test)\n",
    "print(confusion_matrix(y_test, y_pred))\n",
    "print(classification_report(y_test, y_pred))"
   ]
  },
  {
   "cell_type": "markdown",
   "id": "outdoor-saudi",
   "metadata": {},
   "source": [
    "# Логистическая регрессия (Logistic Regression)"
   ]
  },
  {
   "cell_type": "code",
   "execution_count": 143,
   "id": "national-rainbow",
   "metadata": {},
   "outputs": [
    {
     "data": {
      "text/plain": [
       "LogisticRegression()"
      ]
     },
     "execution_count": 143,
     "metadata": {},
     "output_type": "execute_result"
    }
   ],
   "source": [
    "from sklearn.linear_model import LogisticRegression\n",
    "\n",
    "clf = LogisticRegression()\n",
    "clf.fit(X_train, y_train)"
   ]
  },
  {
   "cell_type": "code",
   "execution_count": 144,
   "id": "administrative-academy",
   "metadata": {},
   "outputs": [
    {
     "name": "stdout",
     "output_type": "stream",
     "text": [
      "[[146   3]\n",
      " [  3   8]]\n",
      "              precision    recall  f1-score   support\n",
      "\n",
      "           0       0.98      0.98      0.98       149\n",
      "           1       0.73      0.73      0.73        11\n",
      "\n",
      "    accuracy                           0.96       160\n",
      "   macro avg       0.85      0.85      0.85       160\n",
      "weighted avg       0.96      0.96      0.96       160\n",
      "\n"
     ]
    }
   ],
   "source": [
    "y_pred = clf.predict(X_test)\n",
    "print(confusion_matrix(y_test, y_pred))\n",
    "print(classification_report(y_test, y_pred))"
   ]
  },
  {
   "cell_type": "markdown",
   "id": "compact-church",
   "metadata": {},
   "source": [
    "# Случайный лес (Random Forest)"
   ]
  },
  {
   "cell_type": "code",
   "execution_count": 145,
   "id": "previous-gabriel",
   "metadata": {},
   "outputs": [
    {
     "data": {
      "text/plain": [
       "RandomForestClassifier()"
      ]
     },
     "execution_count": 145,
     "metadata": {},
     "output_type": "execute_result"
    }
   ],
   "source": [
    "from sklearn.ensemble import RandomForestClassifier\n",
    "\n",
    "clf = RandomForestClassifier()\n",
    "clf.fit(X_train, y_train)"
   ]
  },
  {
   "cell_type": "code",
   "execution_count": 146,
   "id": "extended-visit",
   "metadata": {},
   "outputs": [
    {
     "name": "stdout",
     "output_type": "stream",
     "text": [
      "[[146   3]\n",
      " [  0  11]]\n",
      "              precision    recall  f1-score   support\n",
      "\n",
      "           0       1.00      0.98      0.99       149\n",
      "           1       0.79      1.00      0.88        11\n",
      "\n",
      "    accuracy                           0.98       160\n",
      "   macro avg       0.89      0.99      0.93       160\n",
      "weighted avg       0.99      0.98      0.98       160\n",
      "\n"
     ]
    }
   ],
   "source": [
    "y_pred = clf.predict(X_test)\n",
    "print(confusion_matrix(y_test, y_pred))\n",
    "print(classification_report(y_test, y_pred))"
   ]
  },
  {
   "cell_type": "markdown",
   "id": "stable-strand",
   "metadata": {},
   "source": [
    "# Градиентный бустинг (Gradient Boosting) "
   ]
  },
  {
   "cell_type": "code",
   "execution_count": 147,
   "id": "moral-heaven",
   "metadata": {},
   "outputs": [
    {
     "data": {
      "text/plain": [
       "GradientBoostingClassifier()"
      ]
     },
     "execution_count": 147,
     "metadata": {},
     "output_type": "execute_result"
    }
   ],
   "source": [
    "from sklearn.ensemble import GradientBoostingClassifier\n",
    "\n",
    "clf = GradientBoostingClassifier()\n",
    "clf.fit(X_train, y_train)"
   ]
  },
  {
   "cell_type": "code",
   "execution_count": 148,
   "id": "desirable-voltage",
   "metadata": {},
   "outputs": [
    {
     "name": "stdout",
     "output_type": "stream",
     "text": [
      "[[145   4]\n",
      " [  0  11]]\n",
      "              precision    recall  f1-score   support\n",
      "\n",
      "           0       1.00      0.97      0.99       149\n",
      "           1       0.73      1.00      0.85        11\n",
      "\n",
      "    accuracy                           0.97       160\n",
      "   macro avg       0.87      0.99      0.92       160\n",
      "weighted avg       0.98      0.97      0.98       160\n",
      "\n"
     ]
    }
   ],
   "source": [
    "y_pred = clf.predict(X_test)\n",
    "print(confusion_matrix(y_test, y_pred))\n",
    "print(classification_report(y_test, y_pred))"
   ]
  },
  {
   "cell_type": "markdown",
   "id": "communist-acrylic",
   "metadata": {},
   "source": [
    "# Подбор гиперпараметров"
   ]
  },
  {
   "cell_type": "code",
   "execution_count": 149,
   "id": "prepared-brooklyn",
   "metadata": {},
   "outputs": [
    {
     "data": {
      "text/plain": [
       "{'n_neighbors': 5}"
      ]
     },
     "execution_count": 149,
     "metadata": {},
     "output_type": "execute_result"
    }
   ],
   "source": [
    "from sklearn.model_selection import GridSearchCV\n",
    "\n",
    "parameters = {'n_neighbors':[1, 2, 3, 4, 5]}\n",
    "\n",
    "knn = KNeighborsClassifier()\n",
    "\n",
    "clf = GridSearchCV(knn, parameters)\n",
    "\n",
    "clf.fit(X_train, y_train)\n",
    "\n",
    "clf.best_params_"
   ]
  },
  {
   "cell_type": "markdown",
   "id": "minus-disaster",
   "metadata": {},
   "source": [
    "В итоге оказалось, что мы изначально выбрали наилучший гиперпараметр (количество соседей равное пяти)."
   ]
  },
  {
   "cell_type": "markdown",
   "id": "japanese-inspiration",
   "metadata": {},
   "source": [
    "# Итоги"
   ]
  },
  {
   "cell_type": "markdown",
   "id": "incident-factory",
   "metadata": {},
   "source": [
    "Подводя итоги, можно сказать, что самым лучшим классификатором в данном случае оказался случайный лес со значением метрики accuracy, равным 0.98, то есть классификатор ошибается лишь в 2 процентах случаев (3 покемона из 160), это более чем достойный результат.\n",
    "В то же время можем сказать, что худшим оказался наивный байесовский классификатор Гаусса, который ошибается в 42 процентах случаев, что неприемлимо. Остальные модели оказались примерно такими же качественными, как и случайный лес, но со значением метрики accuracy немного меньше, 0.96-0.97 (за исключением наивного байесовского классификатора Бернулли, accuracy которого оказалась равна 0.93)."
   ]
  }
 ],
 "metadata": {
  "kernelspec": {
   "display_name": "Python 3",
   "language": "python",
   "name": "python3"
  },
  "language_info": {
   "codemirror_mode": {
    "name": "ipython",
    "version": 3
   },
   "file_extension": ".py",
   "mimetype": "text/x-python",
   "name": "python",
   "nbconvert_exporter": "python",
   "pygments_lexer": "ipython3",
   "version": "3.8.6"
  }
 },
 "nbformat": 4,
 "nbformat_minor": 5
}
