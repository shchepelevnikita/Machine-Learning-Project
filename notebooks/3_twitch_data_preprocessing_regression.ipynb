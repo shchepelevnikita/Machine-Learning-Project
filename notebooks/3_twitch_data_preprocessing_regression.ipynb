{
 "cells": [
  {
   "cell_type": "code",
   "execution_count": 92,
   "id": "clinical-spine",
   "metadata": {},
   "outputs": [],
   "source": [
    "import pandas as pd\n",
    "import numpy as np"
   ]
  },
  {
   "cell_type": "markdown",
   "id": "rocky-lesbian",
   "metadata": {},
   "source": [
    "# Загрузка и подготовка данных"
   ]
  },
  {
   "cell_type": "markdown",
   "id": "unexpected-aggregate",
   "metadata": {},
   "source": [
    "Импортируем подготовленный датасет."
   ]
  },
  {
   "cell_type": "code",
   "execution_count": 30,
   "id": "determined-third",
   "metadata": {},
   "outputs": [],
   "source": [
    "twitch_df = pd.read_csv('../data/twitch_data_preprocessed.csv')"
   ]
  },
  {
   "cell_type": "markdown",
   "id": "authorized-fellow",
   "metadata": {},
   "source": [
    "Убеждаемся, что загрузка прошла успешно."
   ]
  },
  {
   "cell_type": "code",
   "execution_count": 63,
   "id": "handy-xerox",
   "metadata": {},
   "outputs": [
    {
     "data": {
      "text/html": [
       "<div>\n",
       "<style scoped>\n",
       "    .dataframe tbody tr th:only-of-type {\n",
       "        vertical-align: middle;\n",
       "    }\n",
       "\n",
       "    .dataframe tbody tr th {\n",
       "        vertical-align: top;\n",
       "    }\n",
       "\n",
       "    .dataframe thead th {\n",
       "        text-align: right;\n",
       "    }\n",
       "</style>\n",
       "<table border=\"1\" class=\"dataframe\">\n",
       "  <thead>\n",
       "    <tr style=\"text-align: right;\">\n",
       "      <th></th>\n",
       "      <th>Watch time(Minutes)</th>\n",
       "      <th>Stream time(minutes)</th>\n",
       "      <th>Peak viewers</th>\n",
       "      <th>Average viewers</th>\n",
       "      <th>Followers</th>\n",
       "      <th>Views gained</th>\n",
       "    </tr>\n",
       "  </thead>\n",
       "  <tbody>\n",
       "    <tr>\n",
       "      <th>0</th>\n",
       "      <td>6196161750</td>\n",
       "      <td>215250</td>\n",
       "      <td>222720</td>\n",
       "      <td>27716</td>\n",
       "      <td>3246298</td>\n",
       "      <td>93036735</td>\n",
       "    </tr>\n",
       "    <tr>\n",
       "      <th>1</th>\n",
       "      <td>6091677300</td>\n",
       "      <td>211845</td>\n",
       "      <td>310998</td>\n",
       "      <td>25610</td>\n",
       "      <td>5310163</td>\n",
       "      <td>89705964</td>\n",
       "    </tr>\n",
       "    <tr>\n",
       "      <th>2</th>\n",
       "      <td>5644590915</td>\n",
       "      <td>515280</td>\n",
       "      <td>387315</td>\n",
       "      <td>10976</td>\n",
       "      <td>1767635</td>\n",
       "      <td>102611607</td>\n",
       "    </tr>\n",
       "    <tr>\n",
       "      <th>3</th>\n",
       "      <td>3970318140</td>\n",
       "      <td>517740</td>\n",
       "      <td>300575</td>\n",
       "      <td>7714</td>\n",
       "      <td>3944850</td>\n",
       "      <td>106546942</td>\n",
       "    </tr>\n",
       "    <tr>\n",
       "      <th>4</th>\n",
       "      <td>3671000070</td>\n",
       "      <td>123660</td>\n",
       "      <td>285644</td>\n",
       "      <td>29602</td>\n",
       "      <td>8938903</td>\n",
       "      <td>78998587</td>\n",
       "    </tr>\n",
       "  </tbody>\n",
       "</table>\n",
       "</div>"
      ],
      "text/plain": [
       "   Watch time(Minutes)  Stream time(minutes)  Peak viewers  Average viewers  \\\n",
       "0           6196161750                215250        222720            27716   \n",
       "1           6091677300                211845        310998            25610   \n",
       "2           5644590915                515280        387315            10976   \n",
       "3           3970318140                517740        300575             7714   \n",
       "4           3671000070                123660        285644            29602   \n",
       "\n",
       "   Followers  Views gained  \n",
       "0    3246298      93036735  \n",
       "1    5310163      89705964  \n",
       "2    1767635     102611607  \n",
       "3    3944850     106546942  \n",
       "4    8938903      78998587  "
      ]
     },
     "execution_count": 63,
     "metadata": {},
     "output_type": "execute_result"
    }
   ],
   "source": [
    "twitch_df.head()"
   ]
  },
  {
   "cell_type": "markdown",
   "id": "provincial-lawsuit",
   "metadata": {},
   "source": [
    "Создаем датафреймы X (объекты) и y (ответы)."
   ]
  },
  {
   "cell_type": "code",
   "execution_count": 32,
   "id": "opposed-campaign",
   "metadata": {},
   "outputs": [],
   "source": [
    "y = twitch_df['Followers gained']\n",
    "twitch_df = twitch_df.drop(['Followers gained'], axis=1)\n",
    "X = twitch_df"
   ]
  },
  {
   "cell_type": "markdown",
   "id": "available-diary",
   "metadata": {},
   "source": [
    "Разбиваем всю выборку на обучающую и тестовую."
   ]
  },
  {
   "cell_type": "code",
   "execution_count": 33,
   "id": "maritime-statistics",
   "metadata": {},
   "outputs": [],
   "source": [
    "from sklearn.model_selection import train_test_split\n",
    "\n",
    "X_train, X_test, y_train, y_test = train_test_split(X, y, test_size=0.20, random_state = 101)"
   ]
  },
  {
   "cell_type": "markdown",
   "id": "average-abraham",
   "metadata": {},
   "source": [
    "Нормируем вещественные признаки."
   ]
  },
  {
   "cell_type": "code",
   "execution_count": 34,
   "id": "atlantic-supplement",
   "metadata": {},
   "outputs": [],
   "source": [
    "from sklearn.preprocessing import StandardScaler\n",
    "\n",
    "scaler = StandardScaler()\n",
    "scaler.fit(X_train)\n",
    "X_train = scaler.transform(X_train)\n",
    "X_test = scaler.transform(X_test)"
   ]
  },
  {
   "cell_type": "markdown",
   "id": "another-civilian",
   "metadata": {},
   "source": [
    "# Линейная регрессия"
   ]
  },
  {
   "cell_type": "markdown",
   "id": "christian-ability",
   "metadata": {},
   "source": [
    "[LinearRegression](https://scikit-learn.org/stable/modules/generated/sklearn.linear_model.LinearRegression.html) - документация по LinearRegression\n",
    "\n"
   ]
  },
  {
   "cell_type": "markdown",
   "id": "identified-namibia",
   "metadata": {},
   "source": [
    "Импортируем нужные нам модули."
   ]
  },
  {
   "cell_type": "code",
   "execution_count": 35,
   "id": "dying-belgium",
   "metadata": {},
   "outputs": [],
   "source": [
    "from sklearn.linear_model import LinearRegression\n",
    "from sklearn.metrics import r2_score, mean_squared_error, mean_absolute_error"
   ]
  },
  {
   "cell_type": "markdown",
   "id": "dutch-minnesota",
   "metadata": {},
   "source": [
    "Создаем линейный регрессор, обучаем его с помощью метода fit на тренировочной выборке и предсказываем ответ."
   ]
  },
  {
   "cell_type": "code",
   "execution_count": 36,
   "id": "documentary-comparison",
   "metadata": {},
   "outputs": [],
   "source": [
    "lin_reg  = LinearRegression()\n",
    "lin_reg.fit(X_train, y_train)\n",
    "y_pred = lin_reg.predict(X_test)"
   ]
  },
  {
   "cell_type": "markdown",
   "id": "fatty-sellers",
   "metadata": {},
   "source": [
    "Оцениваем регрессор с помощью 4 метрик: R2 Score, RMSE, MSE, MAE."
   ]
  },
  {
   "cell_type": "code",
   "execution_count": 37,
   "id": "capable-stranger",
   "metadata": {},
   "outputs": [
    {
     "name": "stdout",
     "output_type": "stream",
     "text": [
      "R2 score: 0.5366031433627446\n",
      "RMSE : 202315.23271199077\n",
      "Mean Absolute Error: 114457.86433459811\n",
      "MSE : 40931453387.306984\n"
     ]
    }
   ],
   "source": [
    "print(f'R2 score: {r2_score(y_test, y_pred)}')\n",
    "print(f'RMSE : {np.sqrt(mean_squared_error(y_test, y_pred))}')\n",
    "print(f'Mean Absolute Error: {mean_absolute_error(y_test, y_pred)}')\n",
    "print(f'MSE : {mean_squared_error(y_test, y_pred)}')"
   ]
  },
  {
   "cell_type": "markdown",
   "id": "working-thong",
   "metadata": {},
   "source": [
    "Результат получился средний, посмотрим, сможем ли мы улучшить его."
   ]
  },
  {
   "cell_type": "markdown",
   "id": "common-butterfly",
   "metadata": {},
   "source": [
    "# Регрессия дерева решений"
   ]
  },
  {
   "cell_type": "markdown",
   "id": "ruled-citation",
   "metadata": {},
   "source": [
    "[DecisionTreeRegressor](https://scikit-learn.org/stable/modules/generated/sklearn.tree.DecisionTreeRegressor.html) - документация по DecisionTreeRegressor"
   ]
  },
  {
   "cell_type": "code",
   "execution_count": 38,
   "id": "geographic-hobby",
   "metadata": {},
   "outputs": [],
   "source": [
    "from sklearn.tree import DecisionTreeRegressor"
   ]
  },
  {
   "cell_type": "code",
   "execution_count": 39,
   "id": "dramatic-vertical",
   "metadata": {},
   "outputs": [],
   "source": [
    "tree_reg = DecisionTreeRegressor()\n",
    "tree_reg.fit(X_train, y_train)\n",
    "y_pred = tree_reg.predict(X_test)"
   ]
  },
  {
   "cell_type": "code",
   "execution_count": 40,
   "id": "seasonal-breakdown",
   "metadata": {},
   "outputs": [
    {
     "name": "stdout",
     "output_type": "stream",
     "text": [
      "R2 score: 0.42616405731505735\n",
      "RMSE : 225136.50233238502\n",
      "Mean Absolute Error: 125712.52\n",
      "MSE : 50686444682.46\n"
     ]
    }
   ],
   "source": [
    "print(f'R2 score: {r2_score(y_test, y_pred)}')\n",
    "print(f'RMSE : {np.sqrt(mean_squared_error(y_test, y_pred))}')\n",
    "print(f'Mean Absolute Error: {mean_absolute_error(y_test, y_pred)}')\n",
    "print(f'MSE : {mean_squared_error(y_test, y_pred)}')"
   ]
  },
  {
   "cell_type": "markdown",
   "id": "improving-church",
   "metadata": {},
   "source": [
    "Результат сильно ухудшился, данный регрессор не стоит рассматривать."
   ]
  },
  {
   "cell_type": "markdown",
   "id": "solid-stocks",
   "metadata": {},
   "source": [
    "# LASSO"
   ]
  },
  {
   "cell_type": "markdown",
   "id": "strategic-catalyst",
   "metadata": {},
   "source": [
    "[LASSO](https://scikit-learn.org/stable/modules/generated/sklearn.linear_model.Lasso.html) - документация по LASSO"
   ]
  },
  {
   "cell_type": "code",
   "execution_count": 41,
   "id": "operating-greece",
   "metadata": {},
   "outputs": [],
   "source": [
    "from sklearn.linear_model import Lasso"
   ]
  },
  {
   "cell_type": "code",
   "execution_count": 42,
   "id": "split-pearl",
   "metadata": {},
   "outputs": [],
   "source": [
    "lasso_reg = Lasso()\n",
    "lasso_reg.fit(X_train, y_train)\n",
    "y_pred = lasso_reg.predict(X_test)"
   ]
  },
  {
   "cell_type": "code",
   "execution_count": 43,
   "id": "disturbed-bones",
   "metadata": {},
   "outputs": [
    {
     "name": "stdout",
     "output_type": "stream",
     "text": [
      "R2 score: 0.5366032486470997\n",
      "RMSE : 202315.2097288504\n",
      "Mean Absolute Error: 114457.65957829492\n",
      "MSE : 40931444087.62872\n"
     ]
    }
   ],
   "source": [
    "print(f'R2 score: {r2_score(y_test, y_pred)}')\n",
    "print(f'RMSE : {np.sqrt(mean_squared_error(y_test, y_pred))}')\n",
    "print(f'Mean Absolute Error: {mean_absolute_error(y_test, y_pred)}')\n",
    "print(f'MSE : {mean_squared_error(y_test, y_pred)}')"
   ]
  },
  {
   "cell_type": "markdown",
   "id": "eligible-customs",
   "metadata": {},
   "source": [
    "Результаты не изменились по сравнению с лучшим полученным ранее регрессором."
   ]
  },
  {
   "cell_type": "markdown",
   "id": "laughing-nepal",
   "metadata": {},
   "source": [
    "# Гребневая регрессия"
   ]
  },
  {
   "cell_type": "markdown",
   "id": "historic-honolulu",
   "metadata": {},
   "source": [
    "[Ridge](https://scikit-learn.org/stable/modules/generated/sklearn.linear_model.Ridge.html) - документация по Ridge"
   ]
  },
  {
   "cell_type": "code",
   "execution_count": 44,
   "id": "smoking-pleasure",
   "metadata": {},
   "outputs": [],
   "source": [
    "from sklearn.linear_model import Ridge"
   ]
  },
  {
   "cell_type": "code",
   "execution_count": 45,
   "id": "qualified-chambers",
   "metadata": {},
   "outputs": [],
   "source": [
    "ridge_reg = Ridge()\n",
    "ridge_reg.fit(X_train, y_train)\n",
    "y_pred = ridge_reg.predict(X_test)"
   ]
  },
  {
   "cell_type": "code",
   "execution_count": 46,
   "id": "positive-butter",
   "metadata": {},
   "outputs": [
    {
     "name": "stdout",
     "output_type": "stream",
     "text": [
      "R2 score: 0.5367260935538616\n",
      "RMSE : 202288.3914134878\n",
      "Mean Absolute Error: 114437.1607948577\n",
      "MSE : 40920593300.656456\n"
     ]
    }
   ],
   "source": [
    "print(f'R2 score: {r2_score(y_test, y_pred)}')\n",
    "print(f'RMSE : {np.sqrt(mean_squared_error(y_test, y_pred))}')\n",
    "print(f'Mean Absolute Error: {mean_absolute_error(y_test, y_pred)}')\n",
    "print(f'MSE : {mean_squared_error(y_test, y_pred)}')"
   ]
  },
  {
   "cell_type": "markdown",
   "id": "artistic-tractor",
   "metadata": {},
   "source": [
    "Результаты не изменились по сравнению с лучшим полученным ранее регрессором."
   ]
  },
  {
   "cell_type": "markdown",
   "id": "stable-tiger",
   "metadata": {},
   "source": [
    "# Elastic Net регрессия"
   ]
  },
  {
   "cell_type": "markdown",
   "id": "regional-poetry",
   "metadata": {},
   "source": [
    "[ElasticNet](https://scikit-learn.org/stable/modules/generated/sklearn.linear_model.ElasticNet.html) - документация по ElasticNet"
   ]
  },
  {
   "cell_type": "code",
   "execution_count": 47,
   "id": "olive-observer",
   "metadata": {},
   "outputs": [],
   "source": [
    "from sklearn.linear_model import ElasticNet"
   ]
  },
  {
   "cell_type": "code",
   "execution_count": 48,
   "id": "living-richmond",
   "metadata": {},
   "outputs": [],
   "source": [
    "elastic_net_reg = ElasticNet()\n",
    "elastic_net_reg.fit(X_train, y_train)\n",
    "y_pred = elastic_net_reg.predict(X_test)"
   ]
  },
  {
   "cell_type": "code",
   "execution_count": 49,
   "id": "annoying-violation",
   "metadata": {},
   "outputs": [
    {
     "name": "stdout",
     "output_type": "stream",
     "text": [
      "R2 score: 0.4665914943444798\n",
      "RMSE : 217061.10493946433\n",
      "Mean Absolute Error: 123907.1277858166\n",
      "MSE : 47115523277.541145\n"
     ]
    }
   ],
   "source": [
    "print(f'R2 score: {r2_score(y_test, y_pred)}')\n",
    "print(f'RMSE : {np.sqrt(mean_squared_error(y_test, y_pred))}')\n",
    "print(f'Mean Absolute Error: {mean_absolute_error(y_test, y_pred)}')\n",
    "print(f'MSE : {mean_squared_error(y_test, y_pred)}')"
   ]
  },
  {
   "cell_type": "markdown",
   "id": "quantitative-ministry",
   "metadata": {},
   "source": [
    "Данные ухудшились, что говорит о том, что данный регрессор не сильно подходит под нашу задачу."
   ]
  },
  {
   "cell_type": "markdown",
   "id": "extra-arkansas",
   "metadata": {},
   "source": [
    "# Случайный лес"
   ]
  },
  {
   "cell_type": "code",
   "execution_count": 50,
   "id": "limiting-possession",
   "metadata": {},
   "outputs": [],
   "source": [
    "from sklearn.ensemble import RandomForestRegressor"
   ]
  },
  {
   "cell_type": "code",
   "execution_count": 51,
   "id": "racial-ivory",
   "metadata": {},
   "outputs": [],
   "source": [
    "random_forest_reg = RandomForestRegressor()\n",
    "random_forest_reg.fit(X_train, y_train)\n",
    "y_pred = random_forest_reg.predict(X_test)"
   ]
  },
  {
   "cell_type": "code",
   "execution_count": 52,
   "id": "south-clinic",
   "metadata": {},
   "outputs": [
    {
     "name": "stdout",
     "output_type": "stream",
     "text": [
      "R2 score: 0.5541561171613075\n",
      "RMSE : 198446.50165927145\n",
      "Mean Absolute Error: 112662.0209\n",
      "MSE : 39381014020.80323\n"
     ]
    }
   ],
   "source": [
    "print(f'R2 score: {r2_score(y_test, y_pred)}')\n",
    "print(f'RMSE : {np.sqrt(mean_squared_error(y_test, y_pred))}')\n",
    "print(f'Mean Absolute Error: {mean_absolute_error(y_test, y_pred)}')\n",
    "print(f'MSE : {mean_squared_error(y_test, y_pred)}')"
   ]
  },
  {
   "cell_type": "markdown",
   "id": "composite-finish",
   "metadata": {},
   "source": [
    "Качество модели выросло, но не намного, посмотрим, сможем ли мы улучшить результат с помощью подбора гиперпараметров."
   ]
  },
  {
   "cell_type": "markdown",
   "id": "judicial-eight",
   "metadata": {},
   "source": [
    "# Подбор параметров"
   ]
  },
  {
   "cell_type": "markdown",
   "id": "extensive-pepper",
   "metadata": {},
   "source": [
    "Импортируем рандомный поиск с кросс-валидацией."
   ]
  },
  {
   "cell_type": "code",
   "execution_count": 53,
   "id": "worst-pound",
   "metadata": {},
   "outputs": [
    {
     "name": "stdout",
     "output_type": "stream",
     "text": [
      "Fitting 3 folds for each of 100 candidates, totalling 300 fits\n"
     ]
    },
    {
     "data": {
      "text/plain": [
       "{'n_estimators': 500,\n",
       " 'min_samples_split': 39,\n",
       " 'min_samples_leaf': 18,\n",
       " 'max_features': 'sqrt',\n",
       " 'max_depth': 11,\n",
       " 'bootstrap': False}"
      ]
     },
     "execution_count": 53,
     "metadata": {},
     "output_type": "execute_result"
    }
   ],
   "source": [
    "from sklearn.model_selection import RandomizedSearchCV # импорт нужного модуля\n",
    "\n",
    "\n",
    "# инициализирование массивов с параметрами\n",
    "n_estimators = [int(x) for x in np.linspace(start = 100, stop = 1000, num = 10)]\n",
    "max_features = ['log2', 'sqrt']\n",
    "max_depth = [int(x) for x in np.linspace(start = 1, stop = 15, num = 15)]\n",
    "min_samples_split = [int(x) for x in np.linspace(start = 2, stop = 50, num = 10)]\n",
    "min_samples_leaf = [int(x) for x in np.linspace(start = 2, stop = 50, num = 10)]\n",
    "bootstrap = [True, False]\n",
    "\n",
    "\n",
    "# словарь с параметрами\n",
    "param_dist = {'n_estimators': n_estimators,\n",
    "               'max_features': max_features,\n",
    "               'max_depth': max_depth,\n",
    "               'min_samples_split': min_samples_split,\n",
    "               'min_samples_leaf': min_samples_leaf,\n",
    "               'bootstrap': bootstrap}\n",
    "\n",
    "\n",
    "# запускаем рандомный поиск гиперпараметров\n",
    "rs = RandomizedSearchCV(random_forest_reg, \n",
    "                        param_dist, \n",
    "                        n_iter = 100, \n",
    "                        cv = 3, \n",
    "                        verbose = 1, \n",
    "                        n_jobs=-1, \n",
    "                        random_state=0)\n",
    "rs.fit(X_train, y_train)\n",
    "rs.best_params_"
   ]
  },
  {
   "cell_type": "markdown",
   "id": "answering-strand",
   "metadata": {},
   "source": [
    "Предполагаемые гиперпараметры найдены, проверим, улучшат ли они качество модели."
   ]
  },
  {
   "cell_type": "code",
   "execution_count": 54,
   "id": "attempted-tiffany",
   "metadata": {},
   "outputs": [],
   "source": [
    "random_forest_reg = RandomForestRegressor(n_estimators=500, min_samples_split=39, min_samples_leaf=18,max_features='sqrt', max_depth=11, bootstrap=False)\n",
    "random_forest_reg.fit(X_train, y_train)\n",
    "y_pred = random_forest_reg.predict(X_test)"
   ]
  },
  {
   "cell_type": "code",
   "execution_count": 55,
   "id": "australian-variation",
   "metadata": {},
   "outputs": [
    {
     "name": "stdout",
     "output_type": "stream",
     "text": [
      "R2 score: 0.4990836360416526\n",
      "RMSE : 210346.19039682223\n",
      "Mean Absolute Error: 119534.5953575917\n",
      "MSE : 44245519814.45619\n"
     ]
    }
   ],
   "source": [
    "print(f'R2 score: {r2_score(y_test, y_pred)}')\n",
    "print(f'RMSE : {np.sqrt(mean_squared_error(y_test, y_pred))}')\n",
    "print(f'Mean Absolute Error: {mean_absolute_error(y_test, y_pred)}')\n",
    "print(f'MSE : {mean_squared_error(y_test, y_pred)}')"
   ]
  },
  {
   "cell_type": "markdown",
   "id": "automated-missouri",
   "metadata": {},
   "source": [
    "Как видно по метрике R2 Score, качество модели заметно ухудшилось, что говорит о том, что данные гиперпараметры не подходят под данную задачу. Попробуем поиск с помощью сетки."
   ]
  },
  {
   "cell_type": "code",
   "execution_count": 58,
   "id": "patent-enhancement",
   "metadata": {},
   "outputs": [
    {
     "data": {
      "text/plain": [
       "{'max_depth': 5,\n",
       " 'min_samples_leaf': 5,\n",
       " 'min_samples_split': 2,\n",
       " 'n_estimators': 10}"
      ]
     },
     "execution_count": 58,
     "metadata": {},
     "output_type": "execute_result"
    }
   ],
   "source": [
    "from sklearn.model_selection import GridSearchCV\n",
    "\n",
    "random_forest_reg = RandomForestRegressor()\n",
    "\n",
    "param_dist = {'n_estimators': range(10, 51, 10),\n",
    "               'max_depth': range(1, 13, 4),\n",
    "               'min_samples_split': range(2, 10, 4),\n",
    "               'min_samples_leaf': range(1, 8, 4)}\n",
    "\n",
    "clf = GridSearchCV(random_forest_reg, param_dist, cv=5)\n",
    "\n",
    "clf.fit(X_train, y_train)\n",
    "\n",
    "clf.best_params_"
   ]
  },
  {
   "cell_type": "code",
   "execution_count": 59,
   "id": "caring-price",
   "metadata": {},
   "outputs": [],
   "source": [
    "random_forest_reg = RandomForestRegressor(n_estimators=10, min_samples_split=2, min_samples_leaf=5, max_depth=5)\n",
    "random_forest_reg.fit(X_train, y_train)\n",
    "y_pred = random_forest_reg.predict(X_test)"
   ]
  },
  {
   "cell_type": "code",
   "execution_count": 60,
   "id": "tired-booking",
   "metadata": {},
   "outputs": [
    {
     "name": "stdout",
     "output_type": "stream",
     "text": [
      "R2 score: 0.5390612743893326\n",
      "RMSE : 201777.91937575507\n",
      "Mean Absolute Error: 114082.33748091575\n",
      "MSE : 40714328747.60871\n"
     ]
    }
   ],
   "source": [
    "print(f'R2 score: {r2_score(y_test, y_pred)}')\n",
    "print(f'RMSE : {np.sqrt(mean_squared_error(y_test, y_pred))}')\n",
    "print(f'Mean Absolute Error: {mean_absolute_error(y_test, y_pred)}')\n",
    "print(f'MSE : {mean_squared_error(y_test, y_pred)}')"
   ]
  },
  {
   "cell_type": "code",
   "execution_count": 61,
   "id": "juvenile-training",
   "metadata": {},
   "outputs": [],
   "source": [
    "random_forest_reg = RandomForestRegressor(n_estimators=50, min_samples_split=2, min_samples_leaf=5, max_depth=9)\n",
    "random_forest_reg.fit(X_train, y_train)\n",
    "y_pred = random_forest_reg.predict(X_test)"
   ]
  },
  {
   "cell_type": "code",
   "execution_count": 62,
   "id": "sealed-grenada",
   "metadata": {},
   "outputs": [
    {
     "name": "stdout",
     "output_type": "stream",
     "text": [
      "R2 score: 0.5463693761144289\n",
      "RMSE : 200171.9518013022\n",
      "Mean Absolute Error: 113251.85901646194\n",
      "MSE : 40068810287.942856\n"
     ]
    }
   ],
   "source": [
    "print(f'R2 score: {r2_score(y_test, y_pred)}')\n",
    "print(f'RMSE : {np.sqrt(mean_squared_error(y_test, y_pred))}')\n",
    "print(f'Mean Absolute Error: {mean_absolute_error(y_test, y_pred)}')\n",
    "print(f'MSE : {mean_squared_error(y_test, y_pred)}')"
   ]
  },
  {
   "cell_type": "markdown",
   "id": "announced-roads",
   "metadata": {},
   "source": [
    "Как видно по метрикам, данные гиперпараметры не только не улучшили модель, но и слегка ухудшили ее. Попробуем поискать гиперпараметры для других моделей."
   ]
  },
  {
   "cell_type": "code",
   "execution_count": 79,
   "id": "conditional-impression",
   "metadata": {},
   "outputs": [
    {
     "name": "stdout",
     "output_type": "stream",
     "text": [
      "Fitting 3 folds for each of 100 candidates, totalling 300 fits\n"
     ]
    },
    {
     "data": {
      "text/plain": [
       "{'max_iter': 112, 'alpha': 1000}"
      ]
     },
     "execution_count": 79,
     "metadata": {},
     "output_type": "execute_result"
    }
   ],
   "source": [
    "# инициализирование массивов с параметрами\n",
    "max_iter = [int(x) for x in np.linspace(start = 1, stop = 1000, num = 10)]\n",
    "alpha = [int(x) for x in np.linspace(start = 1, stop = 1000, num = 10)]\n",
    "\n",
    "\n",
    "# словарь с параметрами\n",
    "param_dist = {'alpha': alpha,\n",
    "               'max_iter': max_iter}\n",
    "\n",
    "\n",
    "# запускаем рандомный поиск гиперпараметров\n",
    "rs = RandomizedSearchCV(lasso_reg, \n",
    "                        param_dist, \n",
    "                        n_iter = 100, \n",
    "                        cv = 3, \n",
    "                        verbose = 1, \n",
    "                        n_jobs=-1, \n",
    "                        random_state=0)\n",
    "rs.fit(X_train, y_train)\n",
    "rs.best_params_"
   ]
  },
  {
   "cell_type": "code",
   "execution_count": 80,
   "id": "modern-donna",
   "metadata": {},
   "outputs": [],
   "source": [
    "lasso_reg = Lasso(max_iter=112, alpha=1000)\n",
    "lasso_reg.fit(X_train, y_train)\n",
    "y_pred = lasso_reg.predict(X_test)"
   ]
  },
  {
   "cell_type": "code",
   "execution_count": 81,
   "id": "abstract-remains",
   "metadata": {},
   "outputs": [
    {
     "name": "stdout",
     "output_type": "stream",
     "text": [
      "R2 score: 0.5384073883127406\n",
      "RMSE : 201920.98938218964\n",
      "Mean Absolute Error: 114055.07627742253\n",
      "MSE : 40772085953.08234\n"
     ]
    }
   ],
   "source": [
    "print(f'R2 score: {r2_score(y_test, y_pred)}')\n",
    "print(f'RMSE : {np.sqrt(mean_squared_error(y_test, y_pred))}')\n",
    "print(f'Mean Absolute Error: {mean_absolute_error(y_test, y_pred)}')\n",
    "print(f'MSE : {mean_squared_error(y_test, y_pred)}')"
   ]
  },
  {
   "cell_type": "markdown",
   "id": "concrete-button",
   "metadata": {},
   "source": [
    "Видим, что модель практически не изменилась, попробуем подобрать параметры с помощью сетки."
   ]
  },
  {
   "cell_type": "code",
   "execution_count": 82,
   "id": "massive-criticism",
   "metadata": {},
   "outputs": [
    {
     "name": "stderr",
     "output_type": "stream",
     "text": [
      "x:\\programs\\python\\lib\\site-packages\\sklearn\\linear_model\\_coordinate_descent.py:530: ConvergenceWarning: Objective did not converge. You might want to increase the number of iterations. Duality gap: 24724561422080.48, tolerance: 8749906976.141245\n",
      "  model = cd_fast.enet_coordinate_descent(\n",
      "x:\\programs\\python\\lib\\site-packages\\sklearn\\linear_model\\_coordinate_descent.py:530: ConvergenceWarning: Objective did not converge. You might want to increase the number of iterations. Duality gap: 24079489876416.24, tolerance: 8482990220.98435\n",
      "  model = cd_fast.enet_coordinate_descent(\n",
      "x:\\programs\\python\\lib\\site-packages\\sklearn\\linear_model\\_coordinate_descent.py:530: ConvergenceWarning: Objective did not converge. You might want to increase the number of iterations. Duality gap: 14897678026194.205, tolerance: 5650638912.045841\n",
      "  model = cd_fast.enet_coordinate_descent(\n",
      "x:\\programs\\python\\lib\\site-packages\\sklearn\\linear_model\\_coordinate_descent.py:530: ConvergenceWarning: Objective did not converge. You might want to increase the number of iterations. Duality gap: 19007312723477.39, tolerance: 7480341758.200807\n",
      "  model = cd_fast.enet_coordinate_descent(\n",
      "x:\\programs\\python\\lib\\site-packages\\sklearn\\linear_model\\_coordinate_descent.py:530: ConvergenceWarning: Objective did not converge. You might want to increase the number of iterations. Duality gap: 24196847040141.098, tolerance: 8733912701.664345\n",
      "  model = cd_fast.enet_coordinate_descent(\n",
      "x:\\programs\\python\\lib\\site-packages\\sklearn\\linear_model\\_coordinate_descent.py:530: ConvergenceWarning: Objective did not converge. You might want to increase the number of iterations. Duality gap: 24661197079837.65, tolerance: 8749906976.141245\n",
      "  model = cd_fast.enet_coordinate_descent(\n",
      "x:\\programs\\python\\lib\\site-packages\\sklearn\\linear_model\\_coordinate_descent.py:530: ConvergenceWarning: Objective did not converge. You might want to increase the number of iterations. Duality gap: 24009430155425.117, tolerance: 8482990220.98435\n",
      "  model = cd_fast.enet_coordinate_descent(\n",
      "x:\\programs\\python\\lib\\site-packages\\sklearn\\linear_model\\_coordinate_descent.py:530: ConvergenceWarning: Objective did not converge. You might want to increase the number of iterations. Duality gap: 14821632458891.488, tolerance: 5650638912.045841\n",
      "  model = cd_fast.enet_coordinate_descent(\n",
      "x:\\programs\\python\\lib\\site-packages\\sklearn\\linear_model\\_coordinate_descent.py:530: ConvergenceWarning: Objective did not converge. You might want to increase the number of iterations. Duality gap: 18949682022596.19, tolerance: 7480341758.200807\n",
      "  model = cd_fast.enet_coordinate_descent(\n",
      "x:\\programs\\python\\lib\\site-packages\\sklearn\\linear_model\\_coordinate_descent.py:530: ConvergenceWarning: Objective did not converge. You might want to increase the number of iterations. Duality gap: 24115860986925.26, tolerance: 8733912701.664345\n",
      "  model = cd_fast.enet_coordinate_descent(\n",
      "x:\\programs\\python\\lib\\site-packages\\sklearn\\linear_model\\_coordinate_descent.py:530: ConvergenceWarning: Objective did not converge. You might want to increase the number of iterations. Duality gap: 24598085005628.82, tolerance: 8749906976.141245\n",
      "  model = cd_fast.enet_coordinate_descent(\n",
      "x:\\programs\\python\\lib\\site-packages\\sklearn\\linear_model\\_coordinate_descent.py:530: ConvergenceWarning: Objective did not converge. You might want to increase the number of iterations. Duality gap: 23939667978529.05, tolerance: 8482990220.98435\n",
      "  model = cd_fast.enet_coordinate_descent(\n",
      "x:\\programs\\python\\lib\\site-packages\\sklearn\\linear_model\\_coordinate_descent.py:530: ConvergenceWarning: Objective did not converge. You might want to increase the number of iterations. Duality gap: 14746291990532.006, tolerance: 5650638912.045841\n",
      "  model = cd_fast.enet_coordinate_descent(\n",
      "x:\\programs\\python\\lib\\site-packages\\sklearn\\linear_model\\_coordinate_descent.py:530: ConvergenceWarning: Objective did not converge. You might want to increase the number of iterations. Duality gap: 18892169864061.22, tolerance: 7480341758.200807\n",
      "  model = cd_fast.enet_coordinate_descent(\n",
      "x:\\programs\\python\\lib\\site-packages\\sklearn\\linear_model\\_coordinate_descent.py:530: ConvergenceWarning: Objective did not converge. You might want to increase the number of iterations. Duality gap: 24035348538049.05, tolerance: 8733912701.664345\n",
      "  model = cd_fast.enet_coordinate_descent(\n",
      "x:\\programs\\python\\lib\\site-packages\\sklearn\\linear_model\\_coordinate_descent.py:530: ConvergenceWarning: Objective did not converge. You might want to increase the number of iterations. Duality gap: 24535224422860.613, tolerance: 8749906976.141245\n",
      "  model = cd_fast.enet_coordinate_descent(\n",
      "x:\\programs\\python\\lib\\site-packages\\sklearn\\linear_model\\_coordinate_descent.py:530: ConvergenceWarning: Objective did not converge. You might want to increase the number of iterations. Duality gap: 23870202264742.44, tolerance: 8482990220.98435\n",
      "  model = cd_fast.enet_coordinate_descent(\n",
      "x:\\programs\\python\\lib\\site-packages\\sklearn\\linear_model\\_coordinate_descent.py:530: ConvergenceWarning: Objective did not converge. You might want to increase the number of iterations. Duality gap: 14671650439497.59, tolerance: 5650638912.045841\n",
      "  model = cd_fast.enet_coordinate_descent(\n",
      "x:\\programs\\python\\lib\\site-packages\\sklearn\\linear_model\\_coordinate_descent.py:530: ConvergenceWarning: Objective did not converge. You might want to increase the number of iterations. Duality gap: 18834776491195.484, tolerance: 7480341758.200807\n",
      "  model = cd_fast.enet_coordinate_descent(\n",
      "x:\\programs\\python\\lib\\site-packages\\sklearn\\linear_model\\_coordinate_descent.py:530: ConvergenceWarning: Objective did not converge. You might want to increase the number of iterations. Duality gap: 23955307234943.4, tolerance: 8733912701.664345\n",
      "  model = cd_fast.enet_coordinate_descent(\n",
      "x:\\programs\\python\\lib\\site-packages\\sklearn\\linear_model\\_coordinate_descent.py:530: ConvergenceWarning: Objective did not converge. You might want to increase the number of iterations. Duality gap: 24472614558074.863, tolerance: 8749906976.141245\n",
      "  model = cd_fast.enet_coordinate_descent(\n",
      "x:\\programs\\python\\lib\\site-packages\\sklearn\\linear_model\\_coordinate_descent.py:530: ConvergenceWarning: Objective did not converge. You might want to increase the number of iterations. Duality gap: 23801031938021.832, tolerance: 8482990220.98435\n",
      "  model = cd_fast.enet_coordinate_descent(\n",
      "x:\\programs\\python\\lib\\site-packages\\sklearn\\linear_model\\_coordinate_descent.py:530: ConvergenceWarning: Objective did not converge. You might want to increase the number of iterations. Duality gap: 14597701687213.047, tolerance: 5650638912.045841\n",
      "  model = cd_fast.enet_coordinate_descent(\n",
      "x:\\programs\\python\\lib\\site-packages\\sklearn\\linear_model\\_coordinate_descent.py:530: ConvergenceWarning: Objective did not converge. You might want to increase the number of iterations. Duality gap: 18777502150016.31, tolerance: 7480341758.200807\n",
      "  model = cd_fast.enet_coordinate_descent(\n",
      "x:\\programs\\python\\lib\\site-packages\\sklearn\\linear_model\\_coordinate_descent.py:530: ConvergenceWarning: Objective did not converge. You might want to increase the number of iterations. Duality gap: 23875734633357.543, tolerance: 8733912701.664345\n",
      "  model = cd_fast.enet_coordinate_descent(\n",
      "x:\\programs\\python\\lib\\site-packages\\sklearn\\linear_model\\_coordinate_descent.py:530: ConvergenceWarning: Objective did not converge. You might want to increase the number of iterations. Duality gap: 24410254640939.508, tolerance: 8749906976.141245\n",
      "  model = cd_fast.enet_coordinate_descent(\n",
      "x:\\programs\\python\\lib\\site-packages\\sklearn\\linear_model\\_coordinate_descent.py:530: ConvergenceWarning: Objective did not converge. You might want to increase the number of iterations. Duality gap: 23732155927247.133, tolerance: 8482990220.98435\n",
      "  model = cd_fast.enet_coordinate_descent(\n",
      "x:\\programs\\python\\lib\\site-packages\\sklearn\\linear_model\\_coordinate_descent.py:530: ConvergenceWarning: Objective did not converge. You might want to increase the number of iterations. Duality gap: 14524439677430.363, tolerance: 5650638912.045841\n",
      "  model = cd_fast.enet_coordinate_descent(\n",
      "x:\\programs\\python\\lib\\site-packages\\sklearn\\linear_model\\_coordinate_descent.py:530: ConvergenceWarning: Objective did not converge. You might want to increase the number of iterations. Duality gap: 18720347089244.355, tolerance: 7480341758.200807\n",
      "  model = cd_fast.enet_coordinate_descent(\n",
      "x:\\programs\\python\\lib\\site-packages\\sklearn\\linear_model\\_coordinate_descent.py:530: ConvergenceWarning: Objective did not converge. You might want to increase the number of iterations. Duality gap: 23796628303271.45, tolerance: 8733912701.664345\n",
      "  model = cd_fast.enet_coordinate_descent(\n",
      "x:\\programs\\python\\lib\\site-packages\\sklearn\\linear_model\\_coordinate_descent.py:530: ConvergenceWarning: Objective did not converge. You might want to increase the number of iterations. Duality gap: 24348143904239.48, tolerance: 8749906976.141245\n",
      "  model = cd_fast.enet_coordinate_descent(\n"
     ]
    },
    {
     "name": "stderr",
     "output_type": "stream",
     "text": [
      "x:\\programs\\python\\lib\\site-packages\\sklearn\\linear_model\\_coordinate_descent.py:530: ConvergenceWarning: Objective did not converge. You might want to increase the number of iterations. Duality gap: 23663573166202.86, tolerance: 8482990220.98435\n",
      "  model = cd_fast.enet_coordinate_descent(\n",
      "x:\\programs\\python\\lib\\site-packages\\sklearn\\linear_model\\_coordinate_descent.py:530: ConvergenceWarning: Objective did not converge. You might want to increase the number of iterations. Duality gap: 14451858415522.082, tolerance: 5650638912.045841\n",
      "  model = cd_fast.enet_coordinate_descent(\n",
      "x:\\programs\\python\\lib\\site-packages\\sklearn\\linear_model\\_coordinate_descent.py:530: ConvergenceWarning: Objective did not converge. You might want to increase the number of iterations. Duality gap: 18663311560312.7, tolerance: 7480341758.200807\n",
      "  model = cd_fast.enet_coordinate_descent(\n",
      "x:\\programs\\python\\lib\\site-packages\\sklearn\\linear_model\\_coordinate_descent.py:530: ConvergenceWarning: Objective did not converge. You might want to increase the number of iterations. Duality gap: 23717985828808.824, tolerance: 8733912701.664345\n",
      "  model = cd_fast.enet_coordinate_descent(\n",
      "x:\\programs\\python\\lib\\site-packages\\sklearn\\linear_model\\_coordinate_descent.py:530: ConvergenceWarning: Objective did not converge. You might want to increase the number of iterations. Duality gap: 24286281583867.625, tolerance: 8749906976.141245\n",
      "  model = cd_fast.enet_coordinate_descent(\n",
      "x:\\programs\\python\\lib\\site-packages\\sklearn\\linear_model\\_coordinate_descent.py:530: ConvergenceWarning: Objective did not converge. You might want to increase the number of iterations. Duality gap: 23595282593559.43, tolerance: 8482990220.98435\n",
      "  model = cd_fast.enet_coordinate_descent(\n",
      "x:\\programs\\python\\lib\\site-packages\\sklearn\\linear_model\\_coordinate_descent.py:530: ConvergenceWarning: Objective did not converge. You might want to increase the number of iterations. Duality gap: 14379951967783.69, tolerance: 5650638912.045841\n",
      "  model = cd_fast.enet_coordinate_descent(\n",
      "x:\\programs\\python\\lib\\site-packages\\sklearn\\linear_model\\_coordinate_descent.py:530: ConvergenceWarning: Objective did not converge. You might want to increase the number of iterations. Duality gap: 18606395817375.87, tolerance: 7480341758.200807\n",
      "  model = cd_fast.enet_coordinate_descent(\n",
      "x:\\programs\\python\\lib\\site-packages\\sklearn\\linear_model\\_coordinate_descent.py:530: ConvergenceWarning: Objective did not converge. You might want to increase the number of iterations. Duality gap: 23639804808150.703, tolerance: 8733912701.664345\n",
      "  model = cd_fast.enet_coordinate_descent(\n",
      "x:\\programs\\python\\lib\\site-packages\\sklearn\\linear_model\\_coordinate_descent.py:530: ConvergenceWarning: Objective did not converge. You might want to increase the number of iterations. Duality gap: 24224666918815.688, tolerance: 8749906976.141245\n",
      "  model = cd_fast.enet_coordinate_descent(\n",
      "x:\\programs\\python\\lib\\site-packages\\sklearn\\linear_model\\_coordinate_descent.py:530: ConvergenceWarning: Objective did not converge. You might want to increase the number of iterations. Duality gap: 23527283152854.64, tolerance: 8482990220.98435\n",
      "  model = cd_fast.enet_coordinate_descent(\n",
      "x:\\programs\\python\\lib\\site-packages\\sklearn\\linear_model\\_coordinate_descent.py:530: ConvergenceWarning: Objective did not converge. You might want to increase the number of iterations. Duality gap: 14308714460744.861, tolerance: 5650638912.045841\n",
      "  model = cd_fast.enet_coordinate_descent(\n",
      "x:\\programs\\python\\lib\\site-packages\\sklearn\\linear_model\\_coordinate_descent.py:530: ConvergenceWarning: Objective did not converge. You might want to increase the number of iterations. Duality gap: 18549600117319.0, tolerance: 7480341758.200807\n",
      "  model = cd_fast.enet_coordinate_descent(\n",
      "x:\\programs\\python\\lib\\site-packages\\sklearn\\linear_model\\_coordinate_descent.py:530: ConvergenceWarning: Objective did not converge. You might want to increase the number of iterations. Duality gap: 23562082853449.62, tolerance: 8733912701.664345\n",
      "  model = cd_fast.enet_coordinate_descent(\n",
      "x:\\programs\\python\\lib\\site-packages\\sklearn\\linear_model\\_coordinate_descent.py:530: ConvergenceWarning: Objective did not converge. You might want to increase the number of iterations. Duality gap: 24163299151165.258, tolerance: 8749906976.141245\n",
      "  model = cd_fast.enet_coordinate_descent(\n",
      "x:\\programs\\python\\lib\\site-packages\\sklearn\\linear_model\\_coordinate_descent.py:530: ConvergenceWarning: Objective did not converge. You might want to increase the number of iterations. Duality gap: 23459573792475.1, tolerance: 8482990220.98435\n",
      "  model = cd_fast.enet_coordinate_descent(\n",
      "x:\\programs\\python\\lib\\site-packages\\sklearn\\linear_model\\_coordinate_descent.py:530: ConvergenceWarning: Objective did not converge. You might want to increase the number of iterations. Duality gap: 14238140080489.475, tolerance: 5650638912.045841\n",
      "  model = cd_fast.enet_coordinate_descent(\n",
      "x:\\programs\\python\\lib\\site-packages\\sklearn\\linear_model\\_coordinate_descent.py:530: ConvergenceWarning: Objective did not converge. You might want to increase the number of iterations. Duality gap: 18492924719766.92, tolerance: 7480341758.200807\n",
      "  model = cd_fast.enet_coordinate_descent(\n",
      "x:\\programs\\python\\lib\\site-packages\\sklearn\\linear_model\\_coordinate_descent.py:530: ConvergenceWarning: Objective did not converge. You might want to increase the number of iterations. Duality gap: 23484817590744.35, tolerance: 8733912701.664345\n",
      "  model = cd_fast.enet_coordinate_descent(\n"
     ]
    },
    {
     "data": {
      "text/plain": [
       "{'alpha': 1000, 'max_iter': 112}"
      ]
     },
     "execution_count": 82,
     "metadata": {},
     "output_type": "execute_result"
    }
   ],
   "source": [
    "clf = GridSearchCV(lasso_reg, param_dist, cv=5)\n",
    "\n",
    "clf.fit(X_train, y_train)\n",
    "\n",
    "clf.best_params_"
   ]
  },
  {
   "cell_type": "markdown",
   "id": "meaning-closure",
   "metadata": {},
   "source": [
    "Сетка выдала те же самые результаты."
   ]
  },
  {
   "cell_type": "markdown",
   "id": "western-unemployment",
   "metadata": {},
   "source": [
    "# Итоги"
   ]
  },
  {
   "cell_type": "markdown",
   "id": "smart-weight",
   "metadata": {},
   "source": [
    "Какие бы гиперпараметры не подбирались, лучше стандартного случайного леса ничего не оказалось. Результат, оцениваемый метрикой R2 в примерно 0.55, оказался лучшим в данной ситуации."
   ]
  }
 ],
 "metadata": {
  "kernelspec": {
   "display_name": "Python 3",
   "language": "python",
   "name": "python3"
  },
  "language_info": {
   "codemirror_mode": {
    "name": "ipython",
    "version": 3
   },
   "file_extension": ".py",
   "mimetype": "text/x-python",
   "name": "python",
   "nbconvert_exporter": "python",
   "pygments_lexer": "ipython3",
   "version": "3.8.6"
  }
 },
 "nbformat": 4,
 "nbformat_minor": 5
}
