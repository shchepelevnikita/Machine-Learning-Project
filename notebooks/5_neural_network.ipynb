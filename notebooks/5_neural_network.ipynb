{
 "cells": [
  {
   "cell_type": "markdown",
   "id": "statistical-density",
   "metadata": {},
   "source": [
    "# Importing libraries"
   ]
  },
  {
   "cell_type": "markdown",
   "id": "announced-royal",
   "metadata": {},
   "source": [
    "Loading all of the dependencies."
   ]
  },
  {
   "cell_type": "code",
   "execution_count": null,
   "id": "unlimited-timber",
   "metadata": {},
   "outputs": [],
   "source": [
    "import pandas as pd\n",
    "from sklearn import datasets\n",
    "from sklearn.metrics import classification_report, confusion_matrix\n",
    "from sklearn.model_selection import train_test_split\n",
    "from sklearn.preprocessing import StandardScaler\n",
    "import numpy as np"
   ]
  },
  {
   "cell_type": "markdown",
   "id": "sensitive-joshua",
   "metadata": {},
   "source": [
    "# Perceptron Implementation"
   ]
  },
  {
   "cell_type": "markdown",
   "id": "resistant-florida",
   "metadata": {},
   "source": [
    "Implementing Multilayer Perceptron with functionality to choose activation function, amount and size of layers."
   ]
  },
  {
   "cell_type": "code",
   "execution_count": null,
   "id": "committed-northern",
   "metadata": {},
   "outputs": [],
   "source": [
    "import numpy as np\n",
    "\n",
    "\n",
    "class ActivationFunctions:\n",
    "\n",
    "    @staticmethod\n",
    "    def sigmoid(x):\n",
    "        return 1.0 / (1.0 + np.exp(-x))\n",
    "\n",
    "    @staticmethod\n",
    "    def sigmoid_derivative(x):\n",
    "        return x * (1 - x)\n",
    "\n",
    "    @staticmethod\n",
    "    def softmax(x):\n",
    "        y = np.exp(x - x.max())\n",
    "        return y / y.sum()\n",
    "\n",
    "\n",
    "class MLP:\n",
    "    def __init__(self, inputs_count=2, hidden_layers_counts_with_act_funcs=[\n",
    "        (2, ActivationFunctions.sigmoid, ActivationFunctions.sigmoid_derivative)],\n",
    "                 outputs_count_with_act_funcs=[\n",
    "                     (1, ActivationFunctions.sigmoid, ActivationFunctions.sigmoid_derivative)]):\n",
    "        self.inputs_count = inputs_count\n",
    "        self.hidden_layers_counts_with_act_funcs = hidden_layers_counts_with_act_funcs\n",
    "        self.outputs_counts_with_act_funcs = outputs_count_with_act_funcs\n",
    "\n",
    "        self.layers_counts_with_funcs = [(self.inputs_count, None, None)] + self.hidden_layers_counts_with_act_funcs \\\n",
    "                                        + self.outputs_counts_with_act_funcs\n",
    "\n",
    "        self.weights = []\n",
    "        for i in range(len(self.layers_counts_with_funcs) - 1):\n",
    "            self.weights.append((np.random.rand(self.layers_counts_with_funcs[i][0],\n",
    "                                               self.layers_counts_with_funcs[i + 1][0])) -\n",
    "                                np.full(self.layers_counts_with_funcs[i][0], self.layers_counts_with_funcs[i + 1][0], 0.5))\n",
    "\n",
    "        self.derivatives = []\n",
    "        for i in range(len(self.layers_counts_with_funcs) - 1):\n",
    "            self.derivatives.append(np.zeros((self.layers_counts_with_funcs[i][0],\n",
    "                                              self.layers_counts_with_funcs[i + 1][0])))\n",
    "\n",
    "        self.act_parameters = []\n",
    "        for i in range(len(self.layers_counts_with_funcs)):\n",
    "            self.act_parameters.append(np.zeros(self.layers_counts_with_funcs[i][0]))\n",
    "\n",
    "    def predict(self, inputs):\n",
    "        currents_layers_act_parameters = inputs\n",
    "        self.act_parameters[0] = inputs\n",
    "\n",
    "        for index, matrix in enumerate(self.weights):\n",
    "            current_layer_inputs = np.dot(currents_layers_act_parameters, matrix)\n",
    "            currents_layers_act_parameters = self.layers_counts_with_funcs[index + 1][1](current_layer_inputs)\n",
    "            self.act_parameters[index + 1] = currents_layers_act_parameters\n",
    "\n",
    "        return currents_layers_act_parameters\n",
    "\n",
    "    def fit(self, X, y, epochs, learning_rate):\n",
    "        for i in range(epochs):\n",
    "            for j, x in enumerate(X):\n",
    "                y_obj = y[j]\n",
    "                output = self.predict(x)\n",
    "                error = y_obj - output\n",
    "\n",
    "                for k in reversed(range(len(self.derivatives))):\n",
    "                    delta = error * self.layers_counts_with_funcs[k + 1][2](self.act_parameters[k + 1])\n",
    "                    delta_transposed = delta.reshape(delta.shape[0], -1).T\n",
    "                    current_act_parameters = self.act_parameters[k]\n",
    "                    current_act_parameters = current_act_parameters.reshape(current_act_parameters.shape[0], -1)\n",
    "                    self.derivatives[k] = np.dot(current_act_parameters, delta_transposed)\n",
    "                    error = np.dot(delta, self.weights[k].T)\n",
    "\n",
    "                for k in range(len(self.weights)):\n",
    "                    matrix = self.weights[k]\n",
    "                    derivatives = self.derivatives[k]\n",
    "                    matrix += derivatives * learning_rate\n",
    "\n",
    "        return self\n"
   ]
  },
  {
   "cell_type": "markdown",
   "id": "labeled-binding",
   "metadata": {},
   "source": [
    "# Loading Titanic Dataset"
   ]
  },
  {
   "cell_type": "markdown",
   "id": "combined-bailey",
   "metadata": {},
   "source": [
    "### Loading data"
   ]
  },
  {
   "cell_type": "code",
   "execution_count": null,
   "id": "continent-gather",
   "metadata": {},
   "outputs": [],
   "source": [
    "data = pd.read_csv('../data/train.csv', sep = ',')"
   ]
  },
  {
   "cell_type": "code",
   "execution_count": null,
   "id": "stunning-mainstream",
   "metadata": {},
   "outputs": [],
   "source": [
    "data.head()"
   ]
  },
  {
   "cell_type": "markdown",
   "id": "liable-effort",
   "metadata": {},
   "source": [
    "### Preprocessing the data"
   ]
  },
  {
   "cell_type": "markdown",
   "id": "loaded-partner",
   "metadata": {},
   "source": [
    "Removing some attributes as they are not so important for our model and also filling empty spaces."
   ]
  },
  {
   "cell_type": "code",
   "execution_count": null,
   "id": "covered-facial",
   "metadata": {},
   "outputs": [],
   "source": [
    "data.drop(['PassengerId', 'Name', 'Ticket', 'Cabin'], axis=1, inplace=True)\n",
    "data.fillna(data.mean(), inplace=True)\n",
    "data"
   ]
  },
  {
   "cell_type": "markdown",
   "id": "encouraging-healing",
   "metadata": {},
   "source": [
    "### One-Hot Encoding"
   ]
  },
  {
   "cell_type": "code",
   "execution_count": null,
   "id": "romantic-business",
   "metadata": {},
   "outputs": [],
   "source": [
    "data = pd.get_dummies(data=data, prefix='c', columns=['Sex', 'Embarked'])\n",
    "data"
   ]
  },
  {
   "cell_type": "markdown",
   "id": "collectible-picking",
   "metadata": {},
   "source": [
    "### Separating the data"
   ]
  },
  {
   "cell_type": "code",
   "execution_count": null,
   "id": "swiss-treaty",
   "metadata": {},
   "outputs": [],
   "source": [
    "y = data[['Survived']]\n",
    "X = data[data.columns[1:data.shape[1]]]"
   ]
  },
  {
   "cell_type": "code",
   "execution_count": null,
   "id": "extended-queens",
   "metadata": {},
   "outputs": [],
   "source": [
    "X_train, X_test, y_train, y_test = train_test_split(X, y, test_size=0.2, stratify=y)"
   ]
  },
  {
   "cell_type": "markdown",
   "id": "joint-india",
   "metadata": {},
   "source": [
    "### Building a model"
   ]
  },
  {
   "cell_type": "code",
   "execution_count": null,
   "id": "wound-valuation",
   "metadata": {},
   "outputs": [],
   "source": [
    "model = MLP(inputs_count=X_train.shape[1], hidden_layers_counts_with_act_funcs=[(15, ActivationFunctions.sigmoid, ActivationFunctions.sigmoid_derivative),\n",
    "                                                                      (15, ActivationFunctions.sigmoid, ActivationFunctions.sigmoid_derivative)])\\\n",
    "    .fit(X_train.values, y_train.values, epochs=600, learning_rate=0.25)"
   ]
  },
  {
   "cell_type": "markdown",
   "id": "following-damages",
   "metadata": {},
   "source": [
    "### Fitting and estimating the model"
   ]
  },
  {
   "cell_type": "code",
   "execution_count": null,
   "id": "danish-humanitarian",
   "metadata": {},
   "outputs": [],
   "source": [
    "y_pred = []\n",
    "for i in range(len(X_test.values)):\n",
    "    prediction = model.predict(X_test.values[i])[0]\n",
    "    if prediction > 0.5:\n",
    "        y_pred.append(1)\n",
    "    else:\n",
    "        y_pred.append(0)\n",
    "        \n",
    "print(confusion_matrix(y_test, y_pred))\n",
    "print(classification_report(y_test, y_pred))"
   ]
  },
  {
   "cell_type": "markdown",
   "id": "owned-psychology",
   "metadata": {},
   "source": [
    "# Loading Iris Dataset"
   ]
  },
  {
   "cell_type": "markdown",
   "id": "appointed-october",
   "metadata": {},
   "source": [
    "### Loading data"
   ]
  },
  {
   "cell_type": "code",
   "execution_count": null,
   "id": "expressed-speaking",
   "metadata": {},
   "outputs": [],
   "source": [
    "iris = datasets.load_iris()"
   ]
  },
  {
   "cell_type": "markdown",
   "id": "studied-patrick",
   "metadata": {},
   "source": [
    "### Splitting data"
   ]
  },
  {
   "cell_type": "code",
   "execution_count": null,
   "id": "nuclear-pleasure",
   "metadata": {},
   "outputs": [],
   "source": [
    "X = iris.data\n",
    "y = iris.target"
   ]
  },
  {
   "cell_type": "code",
   "execution_count": null,
   "id": "third-subject",
   "metadata": {},
   "outputs": [],
   "source": [
    "X_train, X_test, y_train, y_test = train_test_split(X, y, test_size=0.2, stratify=y)"
   ]
  },
  {
   "cell_type": "markdown",
   "id": "falling-hamilton",
   "metadata": {},
   "source": [
    "### Scaling"
   ]
  },
  {
   "cell_type": "code",
   "execution_count": null,
   "id": "continent-chosen",
   "metadata": {},
   "outputs": [],
   "source": [
    "scaler = StandardScaler()\n",
    "X_train = scaler.fit_transform(X_train)\n",
    "X_test = scaler.transform(X_test)"
   ]
  },
  {
   "cell_type": "markdown",
   "id": "based-course",
   "metadata": {},
   "source": [
    "### Building a model"
   ]
  },
  {
   "cell_type": "code",
   "execution_count": null,
   "id": "emotional-compatibility",
   "metadata": {},
   "outputs": [],
   "source": [
    "model = MLP(inputs_count=X_train.shape[1], hidden_layers_counts_with_act_funcs=[(3, mlp.ActivationFunctions.sigmoid, mlp.ActivationFunctions.sigmoid_derivative),\n",
    "                                                                      (3, mlp.ActivationFunctions.sigmoid, mlp.ActivationFunctions.sigmoid_derivative)],\n",
    "                outputs_count_with_act_funcs=[(3, mlp.ActivationFunctions.sigmoid, mlp.ActivationFunctions.sigmoid_derivative)])\\\n",
    "    .fit(X_train, y_train, epochs=300, learning_rate=0.15)"
   ]
  },
  {
   "cell_type": "code",
   "execution_count": null,
   "id": "auburn-individual",
   "metadata": {},
   "outputs": [],
   "source": [
    "y_pred = []\n",
    "for i in range(len(X_test)):\n",
    "    y_pred.append(np.argmax(model.predict(X_test[i])))\n",
    "print(confusion_matrix(y_test, y_pred))\n",
    "print(classification_report(y_test, y_pred))"
   ]
  }
 ],
 "metadata": {
  "kernelspec": {
   "display_name": "Python 3",
   "language": "python",
   "name": "python3"
  },
  "language_info": {
   "codemirror_mode": {
    "name": "ipython",
    "version": 3
   },
   "file_extension": ".py",
   "mimetype": "text/x-python",
   "name": "python",
   "nbconvert_exporter": "python",
   "pygments_lexer": "ipython3",
   "version": "3.8.6"
  }
 },
 "nbformat": 4,
 "nbformat_minor": 5
}
