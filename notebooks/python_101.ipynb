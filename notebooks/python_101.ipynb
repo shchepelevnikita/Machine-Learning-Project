{
 "cells": [
  {
   "cell_type": "code",
   "execution_count": 3,
   "id": "interim-falls",
   "metadata": {},
   "outputs": [],
   "source": [
    "#function definition\n",
    "def unique_elem_fun(list_1, list_2):\n",
    "    return list(set(list_1) & set(list_2))"
   ]
  },
  {
   "cell_type": "code",
   "execution_count": 4,
   "id": "figured-insurance",
   "metadata": {},
   "outputs": [
    {
     "data": {
      "text/plain": [
       "[2, 3, 6]"
      ]
     },
     "execution_count": 4,
     "metadata": {},
     "output_type": "execute_result"
    }
   ],
   "source": [
    "# two lists\n",
    "list_1 = [1, 2, 3, 5, 6]\n",
    "list_2 = [3, 4, 2, 6]\n",
    "\n",
    "#call for function\n",
    "unique_elem_fun(list_1, list_2)"
   ]
  }
 ],
 "metadata": {
  "kernelspec": {
   "display_name": "Python 3",
   "language": "python",
   "name": "python3"
  },
  "language_info": {
   "codemirror_mode": {
    "name": "ipython",
    "version": 3
   },
   "file_extension": ".py",
   "mimetype": "text/x-python",
   "name": "python",
   "nbconvert_exporter": "python",
   "pygments_lexer": "ipython3",
   "version": "3.8.6"
  }
 },
 "nbformat": 4,
 "nbformat_minor": 5
}
